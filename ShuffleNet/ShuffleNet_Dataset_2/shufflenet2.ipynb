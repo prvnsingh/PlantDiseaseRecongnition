{
  "cells": [
    {
      "cell_type": "code",
      "execution_count": 2,
      "metadata": {
        "colab": {
          "base_uri": "https://localhost:8080/"
        },
        "id": "vMgP6DTk8WVg",
        "outputId": "40101c55-7cd5-424d-d13c-208dd9434a63"
      },
      "outputs": [
        {
          "output_type": "stream",
          "name": "stdout",
          "text": [
            "\n",
            "WARNING: apt does not have a stable CLI interface. Use with caution in scripts.\n",
            "\n",
            "debconf: unable to initialize frontend: Dialog\n",
            "debconf: (No usable dialog-like program is installed, so the dialog based frontend cannot be used. at /usr/share/perl5/Debconf/FrontEnd/Dialog.pm line 76, <> line 1.)\n",
            "debconf: falling back to frontend: Readline\n",
            "debconf: unable to initialize frontend: Readline\n",
            "debconf: (This frontend requires a controlling tty.)\n",
            "debconf: falling back to frontend: Teletype\n",
            "dpkg-preconfigure: unable to re-open stdin: \n",
            "/usr/bin/xdg-open: 869: www-browser: not found\n",
            "/usr/bin/xdg-open: 869: links2: not found\n",
            "/usr/bin/xdg-open: 869: elinks: not found\n",
            "/usr/bin/xdg-open: 869: links: not found\n",
            "/usr/bin/xdg-open: 869: lynx: not found\n",
            "/usr/bin/xdg-open: 869: w3m: not found\n",
            "xdg-open: no method available for opening 'https://accounts.google.com/o/oauth2/auth?client_id=564921029129.apps.googleusercontent.com&redirect_uri=https%3A%2F%2Fgd-ocaml-auth.appspot.com%2Foauth2callback&scope=https%3A%2F%2Fwww.googleapis.com%2Fauth%2Fdrive&response_type=code&access_type=offline&approval_prompt=force&state=mx-DbTlWPqBIj19CcC66J2Jjt5gw6ae3TqrGgjDRLAI'\n",
            "/bin/sh: 1: firefox: not found\n",
            "/bin/sh: 1: google-chrome: not found\n",
            "/bin/sh: 1: chromium-browser: not found\n",
            "/bin/sh: 1: open: not found\n",
            "Cannot retrieve auth tokens.\n",
            "Failure(\"Error opening URL:https://accounts.google.com/o/oauth2/auth?client_id=564921029129.apps.googleusercontent.com&redirect_uri=https%3A%2F%2Fgd-ocaml-auth.appspot.com%2Foauth2callback&scope=https%3A%2F%2Fwww.googleapis.com%2Fauth%2Fdrive&response_type=code&access_type=offline&approval_prompt=force&state=mx-DbTlWPqBIj19CcC66J2Jjt5gw6ae3TqrGgjDRLAI\")\n"
          ]
        }
      ],
      "source": [
        "!sudo add-apt-repository -y ppa:alessandro-strada/ppa 2>&1 > /dev/null\n",
        "!sudo apt-get update -qq 2>&1 > /dev/null\n",
        "!sudo apt -y install -qq google-drive-ocamlfuse 2>&1 > /dev/null\n",
        "!google-drive-ocamlfuse"
      ]
    },
    {
      "cell_type": "code",
      "execution_count": 3,
      "metadata": {
        "colab": {
          "base_uri": "https://localhost:8080/"
        },
        "id": "86CVXtZc8o2b",
        "outputId": "a9788881-517c-4200-ddc4-1c05a37295d6"
      },
      "outputs": [
        {
          "output_type": "stream",
          "name": "stdout",
          "text": [
            "debconf: unable to initialize frontend: Dialog\n",
            "debconf: (No usable dialog-like program is installed, so the dialog based frontend cannot be used. at /usr/share/perl5/Debconf/FrontEnd/Dialog.pm line 76, <> line 1.)\n",
            "debconf: falling back to frontend: Readline\n",
            "debconf: unable to initialize frontend: Readline\n",
            "debconf: (This frontend requires a controlling tty.)\n",
            "debconf: falling back to frontend: Teletype\n",
            "dpkg-preconfigure: unable to re-open stdin: \n",
            "Selecting previously unselected package w3m.\n",
            "(Reading database ... \r(Reading database ... 5%\r(Reading database ... 10%\r(Reading database ... 15%\r(Reading database ... 20%\r(Reading database ... 25%\r(Reading database ... 30%\r(Reading database ... 35%\r(Reading database ... 40%\r(Reading database ... 45%\r(Reading database ... 50%\r(Reading database ... 55%\r(Reading database ... 60%\r(Reading database ... 65%\r(Reading database ... 70%\r(Reading database ... 75%\r(Reading database ... 80%\r(Reading database ... 85%\r(Reading database ... 90%\r(Reading database ... 95%\r(Reading database ... 100%\r(Reading database ... 128298 files and directories currently installed.)\n",
            "Preparing to unpack .../w3m_0.5.3-37ubuntu0.1_amd64.deb ...\n",
            "Unpacking w3m (0.5.3-37ubuntu0.1) ...\n",
            "Setting up w3m (0.5.3-37ubuntu0.1) ...\n",
            "Processing triggers for man-db (2.9.1-1) ...\n",
            "Processing triggers for mime-support (3.64ubuntu1) ...\n",
            "/content\n",
            "/content/drive\n",
            "/content\n",
            "/\n",
            "Access token retrieved correctly.\n"
          ]
        }
      ],
      "source": [
        "!sudo apt-get install -qq w3m # to act as web browser \n",
        "!xdg-settings set default-web-browser w3m.desktop # to set default browser\n",
        "%cd /content\n",
        "!mkdir drive\n",
        "%cd drive\n",
        "!mkdir MyDrive\n",
        "%cd ..\n",
        "%cd ..\n",
        "!google-drive-ocamlfuse /content/drive/MyDrive"
      ]
    },
    {
      "cell_type": "code",
      "execution_count": null,
      "metadata": {
        "id": "2leNDJKZb1nl"
      },
      "outputs": [],
      "source": [
        "# from google.colab import drive\n",
        "# drive._mount('/content/drive')"
      ]
    },
    {
      "cell_type": "code",
      "execution_count": 10,
      "metadata": {
        "id": "J4eMnx0zoaGA",
        "colab": {
          "base_uri": "https://localhost:8080/"
        },
        "outputId": "321e697f-4833-4a78-acbe-292581694650"
      },
      "outputs": [
        {
          "output_type": "stream",
          "name": "stdout",
          "text": [
            "Looking in indexes: https://pypi.org/simple, https://us-python.pkg.dev/colab-wheels/public/simple/\n",
            "Collecting wandb\n",
            "  Downloading wandb-0.14.0-py3-none-any.whl (2.0 MB)\n",
            "\u001b[2K     \u001b[90m━━━━━━━━━━━━━━━━━━━━━━━━━━━━━━━━━━━━━━━━\u001b[0m \u001b[32m2.0/2.0 MB\u001b[0m \u001b[31m26.9 MB/s\u001b[0m eta \u001b[36m0:00:00\u001b[0m\n",
            "\u001b[?25hCollecting GitPython!=3.1.29,>=1.0.0\n",
            "  Downloading GitPython-3.1.31-py3-none-any.whl (184 kB)\n",
            "\u001b[2K     \u001b[90m━━━━━━━━━━━━━━━━━━━━━━━━━━━━━━━━━━━━━━\u001b[0m \u001b[32m184.3/184.3 KB\u001b[0m \u001b[31m23.8 MB/s\u001b[0m eta \u001b[36m0:00:00\u001b[0m\n",
            "\u001b[?25hRequirement already satisfied: protobuf!=4.21.0,<5,>=3.15.0 in /usr/local/lib/python3.9/dist-packages (from wandb) (3.20.3)\n",
            "Requirement already satisfied: appdirs>=1.4.3 in /usr/local/lib/python3.9/dist-packages (from wandb) (1.4.4)\n",
            "Requirement already satisfied: Click!=8.0.0,>=7.0 in /usr/local/lib/python3.9/dist-packages (from wandb) (8.1.3)\n",
            "Collecting docker-pycreds>=0.4.0\n",
            "  Downloading docker_pycreds-0.4.0-py2.py3-none-any.whl (9.0 kB)\n",
            "Collecting pathtools\n",
            "  Downloading pathtools-0.1.2.tar.gz (11 kB)\n",
            "  Preparing metadata (setup.py) ... \u001b[?25l\u001b[?25hdone\n",
            "Requirement already satisfied: typing-extensions in /usr/local/lib/python3.9/dist-packages (from wandb) (4.5.0)\n",
            "Collecting setproctitle\n",
            "  Downloading setproctitle-1.3.2-cp39-cp39-manylinux_2_5_x86_64.manylinux1_x86_64.manylinux_2_17_x86_64.manylinux2014_x86_64.whl (30 kB)\n",
            "Requirement already satisfied: psutil>=5.0.0 in /usr/local/lib/python3.9/dist-packages (from wandb) (5.9.4)\n",
            "Requirement already satisfied: PyYAML in /usr/local/lib/python3.9/dist-packages (from wandb) (6.0)\n",
            "Requirement already satisfied: setuptools in /usr/local/lib/python3.9/dist-packages (from wandb) (67.6.1)\n",
            "Requirement already satisfied: requests<3,>=2.0.0 in /usr/local/lib/python3.9/dist-packages (from wandb) (2.27.1)\n",
            "Collecting sentry-sdk>=1.0.0\n",
            "  Downloading sentry_sdk-1.19.0-py2.py3-none-any.whl (199 kB)\n",
            "\u001b[2K     \u001b[90m━━━━━━━━━━━━━━━━━━━━━━━━━━━━━━━━━━━━━━\u001b[0m \u001b[32m199.2/199.2 KB\u001b[0m \u001b[31m21.1 MB/s\u001b[0m eta \u001b[36m0:00:00\u001b[0m\n",
            "\u001b[?25hRequirement already satisfied: six>=1.4.0 in /usr/local/lib/python3.9/dist-packages (from docker-pycreds>=0.4.0->wandb) (1.16.0)\n",
            "Collecting gitdb<5,>=4.0.1\n",
            "  Downloading gitdb-4.0.10-py3-none-any.whl (62 kB)\n",
            "\u001b[2K     \u001b[90m━━━━━━━━━━━━━━━━━━━━━━━━━━━━━━━━━━━━━━━━\u001b[0m \u001b[32m62.7/62.7 KB\u001b[0m \u001b[31m7.4 MB/s\u001b[0m eta \u001b[36m0:00:00\u001b[0m\n",
            "\u001b[?25hRequirement already satisfied: idna<4,>=2.5 in /usr/local/lib/python3.9/dist-packages (from requests<3,>=2.0.0->wandb) (3.4)\n",
            "Requirement already satisfied: urllib3<1.27,>=1.21.1 in /usr/local/lib/python3.9/dist-packages (from requests<3,>=2.0.0->wandb) (1.26.15)\n",
            "Requirement already satisfied: charset-normalizer~=2.0.0 in /usr/local/lib/python3.9/dist-packages (from requests<3,>=2.0.0->wandb) (2.0.12)\n",
            "Requirement already satisfied: certifi>=2017.4.17 in /usr/local/lib/python3.9/dist-packages (from requests<3,>=2.0.0->wandb) (2022.12.7)\n",
            "Collecting smmap<6,>=3.0.1\n",
            "  Downloading smmap-5.0.0-py3-none-any.whl (24 kB)\n",
            "Building wheels for collected packages: pathtools\n",
            "  Building wheel for pathtools (setup.py) ... \u001b[?25l\u001b[?25hdone\n",
            "  Created wheel for pathtools: filename=pathtools-0.1.2-py3-none-any.whl size=8807 sha256=7231dc93e7a3b32c89c369b194e7f68d9d3ba5aed8a52fad5631b2d36f4b2d75\n",
            "  Stored in directory: /root/.cache/pip/wheels/b7/0a/67/ada2a22079218c75a88361c0782855cc72aebc4d18d0289d05\n",
            "Successfully built pathtools\n",
            "Installing collected packages: pathtools, smmap, setproctitle, sentry-sdk, docker-pycreds, gitdb, GitPython, wandb\n",
            "Successfully installed GitPython-3.1.31 docker-pycreds-0.4.0 gitdb-4.0.10 pathtools-0.1.2 sentry-sdk-1.19.0 setproctitle-1.3.2 smmap-5.0.0 wandb-0.14.0\n"
          ]
        }
      ],
      "source": [
        "! pip install wandb"
      ]
    },
    {
      "cell_type": "code",
      "execution_count": 11,
      "metadata": {
        "colab": {
          "base_uri": "https://localhost:8080/",
          "height": 126
        },
        "id": "7zNNq4RTocBi",
        "outputId": "7bde4c30-3312-417a-d181-094f22a90b67"
      },
      "outputs": [
        {
          "output_type": "display_data",
          "data": {
            "text/plain": [
              "<IPython.core.display.Javascript object>"
            ],
            "application/javascript": [
              "\n",
              "        window._wandbApiKey = new Promise((resolve, reject) => {\n",
              "            function loadScript(url) {\n",
              "            return new Promise(function(resolve, reject) {\n",
              "                let newScript = document.createElement(\"script\");\n",
              "                newScript.onerror = reject;\n",
              "                newScript.onload = resolve;\n",
              "                document.body.appendChild(newScript);\n",
              "                newScript.src = url;\n",
              "            });\n",
              "            }\n",
              "            loadScript(\"https://cdn.jsdelivr.net/npm/postmate/build/postmate.min.js\").then(() => {\n",
              "            const iframe = document.createElement('iframe')\n",
              "            iframe.style.cssText = \"width:0;height:0;border:none\"\n",
              "            document.body.appendChild(iframe)\n",
              "            const handshake = new Postmate({\n",
              "                container: iframe,\n",
              "                url: 'https://wandb.ai/authorize'\n",
              "            });\n",
              "            const timeout = setTimeout(() => reject(\"Couldn't auto authenticate\"), 5000)\n",
              "            handshake.then(function(child) {\n",
              "                child.on('authorize', data => {\n",
              "                    clearTimeout(timeout)\n",
              "                    resolve(data)\n",
              "                });\n",
              "            });\n",
              "            })\n",
              "        });\n",
              "    "
            ]
          },
          "metadata": {}
        },
        {
          "output_type": "stream",
          "name": "stderr",
          "text": [
            "\u001b[34m\u001b[1mwandb\u001b[0m: Logging into wandb.ai. (Learn how to deploy a W&B server locally: https://wandb.me/wandb-server)\n",
            "\u001b[34m\u001b[1mwandb\u001b[0m: You can find your API key in your browser here: https://wandb.ai/authorize\n",
            "wandb: Paste an API key from your profile and hit enter, or press ctrl+c to quit:"
          ]
        },
        {
          "name": "stdout",
          "output_type": "stream",
          "text": [
            " ··········\n"
          ]
        },
        {
          "output_type": "stream",
          "name": "stderr",
          "text": [
            "\u001b[34m\u001b[1mwandb\u001b[0m: Appending key for api.wandb.ai to your netrc file: /root/.netrc\n"
          ]
        },
        {
          "output_type": "execute_result",
          "data": {
            "text/plain": [
              "True"
            ]
          },
          "metadata": {},
          "execution_count": 11
        }
      ],
      "source": [
        "import wandb\n",
        "wandb.login()\n",
        "#ec0fa02abb6680e2e41f9e94ffb3c3a636ca9007"
      ]
    },
    {
      "cell_type": "code",
      "execution_count": 12,
      "metadata": {
        "colab": {
          "base_uri": "https://localhost:8080/"
        },
        "id": "7f_8jy8Wb2C1",
        "outputId": "8ee96ce2-fbab-457b-af64-d74e7baa15fb"
      },
      "outputs": [
        {
          "output_type": "stream",
          "name": "stdout",
          "text": [
            "/content/drive/MyDrive/AI Project/Dataset1\n"
          ]
        }
      ],
      "source": [
        "%cd  '/content/drive/MyDrive/AI Project/Dataset1/'\n",
        "# # /content/drive/MyDrive/AI Project/Dataset1/PlantVillage"
      ]
    },
    {
      "cell_type": "code",
      "execution_count": null,
      "metadata": {
        "colab": {
          "base_uri": "https://localhost:8080/",
          "height": 36
        },
        "id": "xYFa822Mxmjf",
        "outputId": "74a7c6f0-c3f1-4943-e0dd-02a728d9a748"
      },
      "outputs": [
        {
          "data": {
            "application/vnd.google.colaboratory.intrinsic+json": {
              "type": "string"
            },
            "text/plain": [
              "'/content/drive/MyDrive/AI Project/Dataset1'"
            ]
          },
          "execution_count": 7,
          "metadata": {},
          "output_type": "execute_result"
        }
      ],
      "source": [
        "%pwd"
      ]
    },
    {
      "cell_type": "code",
      "execution_count": 13,
      "metadata": {
        "id": "Ag0bSqalfi2v"
      },
      "outputs": [],
      "source": [
        "from PIL import Image\n",
        "import matplotlib\n",
        "import matplotlib.pyplot as plt\n",
        "from matplotlib.pyplot import imshow\n",
        "\n",
        "import torch\n",
        "import torch.nn as nn\n",
        "import torch.nn.functional as F\n",
        "import torch.optim as optim\n",
        "from torch.optim import lr_scheduler\n",
        "import torchvision\n",
        "from torchvision import datasets\n",
        "from torchvision import transforms\n",
        "from torch.utils.data import DataLoader\n",
        "\n",
        "from sklearn.model_selection import train_test_split\n",
        "from torch.utils.data import Subset\n",
        "\n",
        "import numpy as np\n",
        "import random\n",
        "import time\n",
        "import copy\n",
        "\n",
        "import pickle\n",
        "import cv2\n",
        "from os import listdir\n",
        "from sklearn.preprocessing import LabelBinarizer\n",
        "from sklearn.preprocessing import MultiLabelBinarizer\n",
        "from sklearn.model_selection import train_test_split\n",
        "from tensorflow.keras.utils import img_to_array\n",
        "from keras.preprocessing.image import ImageDataGenerator "
      ]
    },
    {
      "cell_type": "code",
      "execution_count": 14,
      "metadata": {
        "id": "kjNWjbacbP8E"
      },
      "outputs": [],
      "source": [
        "EPOCHS = 25\n",
        "INIT_LR = 1e-3\n",
        "BS = 32\n",
        "default_image_size = tuple((256, 256))\n",
        "image_size = 0\n",
        "directory_root = '/content/drive/MyDrive/AI Project/Dataset1/PlantVillage'\n",
        "width=256\n",
        "height=256\n",
        "depth=3\n",
        "batch_size = 64"
      ]
    },
    {
      "cell_type": "code",
      "execution_count": 15,
      "metadata": {
        "id": "A7sw5wukaJ5t"
      },
      "outputs": [],
      "source": [
        "train_config = {\"EPOCHS\" : 25,\n",
        "\"INIT_LR\" : 1e-3,\n",
        "\"BS\" : 32,\n",
        "\"default_image_size\" : tuple((256, 256)),\n",
        "\"image_size\" : 0,\n",
        "\"directory_root\" : '/content/drive/MyDrive/AI Project/Dataset1/PlantVillage',\n",
        "\"width\":256,\n",
        "\"height\":256,\n",
        "\"depth\":3,\n",
        "\"batch_size\" : 64}"
      ]
    },
    {
      "cell_type": "code",
      "execution_count": 16,
      "metadata": {
        "colab": {
          "base_uri": "https://localhost:8080/",
          "height": 187,
          "referenced_widgets": [
            "d05faecd1f3e424fb729d376f8823636",
            "74e91fc657414e0c9b24ec1d76ce52d8",
            "14183bcd7c6b427f929d512a206c9d1f",
            "5d60d51a8bde47749e5bfda4bee097f3",
            "80162c4830df49fcbcba792e466c0d62",
            "4819e33f3cdb4569adc5b4e643156c17",
            "e972ecf211a94f56ba9778d132e3ba87",
            "2c5bc9f773634fbabd528811d856ca1c"
          ]
        },
        "id": "S_t-VJq7pXX7",
        "outputId": "79f35379-767d-4479-c0f6-4165485a8631"
      },
      "outputs": [
        {
          "output_type": "stream",
          "name": "stderr",
          "text": [
            "\u001b[34m\u001b[1mwandb\u001b[0m: Currently logged in as: \u001b[33mprvns1997\u001b[0m (\u001b[33mp1\u001b[0m). Use \u001b[1m`wandb login --relogin`\u001b[0m to force relogin\n"
          ]
        },
        {
          "output_type": "display_data",
          "data": {
            "text/plain": [
              "VBox(children=(Label(value='Waiting for wandb.init()...\\r'), FloatProgress(value=0.016668974350000098, max=1.0…"
            ],
            "application/vnd.jupyter.widget-view+json": {
              "version_major": 2,
              "version_minor": 0,
              "model_id": "d05faecd1f3e424fb729d376f8823636"
            }
          },
          "metadata": {}
        },
        {
          "output_type": "display_data",
          "data": {
            "text/plain": [
              "<IPython.core.display.HTML object>"
            ],
            "text/html": [
              "Tracking run with wandb version 0.14.0"
            ]
          },
          "metadata": {}
        },
        {
          "output_type": "display_data",
          "data": {
            "text/plain": [
              "<IPython.core.display.HTML object>"
            ],
            "text/html": [
              "Run data is saved locally in <code>/content/drive/MyDrive/AI Project/Dataset1/wandb/run-20230405_050213-n84r20lv</code>"
            ]
          },
          "metadata": {}
        },
        {
          "output_type": "display_data",
          "data": {
            "text/plain": [
              "<IPython.core.display.HTML object>"
            ],
            "text/html": [
              "Syncing run <strong><a href='https://wandb.ai/p1/shuffleNet2/runs/n84r20lv' target=\"_blank\">dax-voyager-6</a></strong> to <a href='https://wandb.ai/p1/shuffleNet2' target=\"_blank\">Weights & Biases</a> (<a href='https://wandb.me/run' target=\"_blank\">docs</a>)<br/>"
            ]
          },
          "metadata": {}
        },
        {
          "output_type": "display_data",
          "data": {
            "text/plain": [
              "<IPython.core.display.HTML object>"
            ],
            "text/html": [
              " View project at <a href='https://wandb.ai/p1/shuffleNet2' target=\"_blank\">https://wandb.ai/p1/shuffleNet2</a>"
            ]
          },
          "metadata": {}
        },
        {
          "output_type": "display_data",
          "data": {
            "text/plain": [
              "<IPython.core.display.HTML object>"
            ],
            "text/html": [
              " View run at <a href='https://wandb.ai/p1/shuffleNet2/runs/n84r20lv' target=\"_blank\">https://wandb.ai/p1/shuffleNet2/runs/n84r20lv</a>"
            ]
          },
          "metadata": {}
        }
      ],
      "source": [
        "run = wandb.init(project=\"shuffleNet2\", config=train_config)"
      ]
    },
    {
      "cell_type": "code",
      "execution_count": 17,
      "metadata": {
        "id": "j8d80GewbfVi"
      },
      "outputs": [],
      "source": [
        "def convert_image_to_array(image_dir):\n",
        "    try:\n",
        "        image = cv2.imread(image_dir)\n",
        "        if image is not None :\n",
        "            image = cv2.resize(image, default_image_size)   \n",
        "            return img_to_array(image)\n",
        "        else :\n",
        "            return np.array([])\n",
        "    except Exception as e:\n",
        "        print(f\"Error : {e}\")\n",
        "        return None"
      ]
    },
    {
      "cell_type": "code",
      "execution_count": 18,
      "metadata": {
        "id": "r_hTDB6Ycskp"
      },
      "outputs": [],
      "source": [
        "\n",
        "\n",
        "data_path = '/content/drive/MyDrive/AI Project/Dataset1/PlantVillage_15 classes/'\n",
        "leaf_datasets = datasets.ImageFolder(\n",
        "    data_path,\n",
        "    transforms.Compose([\n",
        "        transforms.Resize((224, 224)),\n",
        "        transforms.ToTensor(),\n",
        "        transforms.Normalize(mean=[0.485, 0.456, 0.406], std=[0.229, 0.224, 0.225]),\n",
        "    ])\n",
        ")"
      ]
    },
    {
      "cell_type": "code",
      "execution_count": 19,
      "metadata": {
        "id": "LOQE18_hgkhf"
      },
      "outputs": [],
      "source": [
        "random_seed = 33\n",
        "random.seed(random_seed)\n",
        "torch.manual_seed(random_seed)\n",
        "\n",
        "dataset = {}\n",
        "\n",
        "train_idx, valtest_idx = train_test_split(list(range(len(leaf_datasets))), test_size=0.3, random_state=random_seed)\n",
        "dataset['train'] = Subset(leaf_datasets, train_idx)\n",
        "valtest          = Subset(leaf_datasets, valtest_idx)\n",
        "\n",
        "\n",
        "val_idx, test_idx = train_test_split(list(range(len(valtest))), test_size=0.7, random_state=random_seed)\n",
        "dataset['valid'] = Subset(valtest, val_idx)\n",
        "dataset['test']  = Subset(valtest, test_idx)"
      ]
    },
    {
      "cell_type": "code",
      "execution_count": null,
      "metadata": {
        "colab": {
          "base_uri": "https://localhost:8080/"
        },
        "id": "7vJKgY0XgoM4",
        "outputId": "eb04a216-4fa6-41f8-a7bc-f877fbe90e34"
      },
      "outputs": [
        {
          "name": "stdout",
          "output_type": "stream",
          "text": [
            "14411\n",
            "1853\n",
            "4324\n"
          ]
        }
      ],
      "source": [
        "print(len(dataset['train']))\n",
        "print(len(dataset['valid']))\n",
        "print(len(dataset['test']))"
      ]
    },
    {
      "cell_type": "code",
      "execution_count": null,
      "metadata": {
        "id": "30UPKFWRVWbj"
      },
      "outputs": [],
      "source": []
    },
    {
      "cell_type": "code",
      "execution_count": 20,
      "metadata": {
        "id": "-R1xXfrfbitF"
      },
      "outputs": [],
      "source": [
        "def get_default_device():\n",
        "    \"\"\"Pick GPU if available, else CPU\"\"\"\n",
        "    if torch.cuda.is_available:\n",
        "        return torch.device(\"cuda\")\n",
        "    else:\n",
        "        return torch.device(\"cpu\")"
      ]
    },
    {
      "cell_type": "code",
      "execution_count": 21,
      "metadata": {
        "id": "TS-S9e9-cCrA"
      },
      "outputs": [],
      "source": [
        "def to_device(data, device):\n",
        "    \"\"\"Move tensor(s) to chosen device\"\"\"\n",
        "    if isinstance(data, (list,tuple)):\n",
        "        return [to_device(x, device) for x in data]\n",
        "    return data.to(device, non_blocking=True)\n",
        "\n",
        "class DeviceDataLoader():\n",
        "    \"\"\"Wrap a dataloader to move data to a device\"\"\"\n",
        "    def __init__(self, dl, device):\n",
        "        self.dl = dl\n",
        "        self.device = device\n",
        "        \n",
        "    def __iter__(self):\n",
        "        \"\"\"Yield a batch of data after moving it to device\"\"\"\n",
        "        for b in self.dl:\n",
        "            yield to_device(b, self.device)\n",
        "        \n",
        "    def __len__(self):\n",
        "        \"\"\"Number of batches\"\"\"\n",
        "        return len(self.dl)"
      ]
    },
    {
      "cell_type": "code",
      "execution_count": 30,
      "metadata": {
        "colab": {
          "base_uri": "https://localhost:8080/"
        },
        "id": "qdGIgPwWbc3Z",
        "outputId": "5cb45459-08d2-439c-ac2e-def41945b923"
      },
      "outputs": [
        {
          "output_type": "execute_result",
          "data": {
            "text/plain": [
              "device(type='cuda')"
            ]
          },
          "metadata": {},
          "execution_count": 30
        }
      ],
      "source": [
        "device = get_default_device()\n",
        "device"
      ]
    },
    {
      "cell_type": "code",
      "execution_count": null,
      "metadata": {
        "id": "V59_XcYlcCXW"
      },
      "outputs": [],
      "source": []
    },
    {
      "cell_type": "code",
      "execution_count": 22,
      "metadata": {
        "colab": {
          "base_uri": "https://localhost:8080/"
        },
        "id": "1ZA3v1z4gqea",
        "outputId": "ac97507d-5705-42f2-9577-75e01b405560"
      },
      "outputs": [
        {
          "output_type": "stream",
          "name": "stdout",
          "text": [
            "batch_size : 64,  train/valid/test : 226 / 29 / 68\n"
          ]
        },
        {
          "output_type": "stream",
          "name": "stderr",
          "text": [
            "/usr/local/lib/python3.9/dist-packages/torch/utils/data/dataloader.py:561: UserWarning: This DataLoader will create 8 worker processes in total. Our suggested max number of worker in current system is 2, which is smaller than what this DataLoader is going to create. Please be aware that excessive worker creation might get DataLoader running slow or even freeze, lower the worker number to avoid potential slowness/freeze if necessary.\n",
            "  warnings.warn(_create_warning_msg(\n"
          ]
        }
      ],
      "source": [
        "dataloaders, batch_num = {}, {}\n",
        "dataloaders['train'] = DataLoader(dataset['train'],\n",
        "                                  batch_size=batch_size, shuffle=True,\n",
        "                                  num_workers=8)\n",
        "dataloaders['valid'] = DataLoader(dataset['valid'],\n",
        "                                  batch_size=batch_size, shuffle=True,\n",
        "                                  num_workers=8)\n",
        "dataloaders['test'] = DataLoader(dataset['test'],\n",
        "                                  batch_size=batch_size, shuffle=False,\n",
        "                                  num_workers=8)\n",
        "\n",
        "\n",
        "batch_num['train'], batch_num['valid'], batch_num['test'] = len(dataloaders['train']), len(dataloaders['valid']), len(dataloaders['test'])\n",
        "print('batch_size : %d,  train/valid/test : %d / %d / %d' % (batch_size, batch_num['train'], batch_num['valid'], batch_num['test']))"
      ]
    },
    {
      "cell_type": "code",
      "execution_count": null,
      "metadata": {
        "id": "zcTRwY-2cE71"
      },
      "outputs": [],
      "source": []
    },
    {
      "cell_type": "code",
      "execution_count": null,
      "metadata": {
        "id": "1_bvKJqXguY6"
      },
      "outputs": [],
      "source": [
        "#class distribution test\n",
        "\n",
        "count = np.zeros(15)\n",
        "\n",
        "for images, labels in dataloaders['train']:  \n",
        "    for a in labels:\n",
        "      count[a.numpy()] += 1\n",
        "\n",
        "print(count)\n",
        "\n",
        "v_count = np.zeros(15)\n",
        "\n",
        "for images, labels in dataloaders['valid']:  \n",
        "    for a in labels:\n",
        "      v_count[a.numpy()] += 1\n",
        "\n",
        "print(v_count)"
      ]
    },
    {
      "cell_type": "code",
      "execution_count": null,
      "metadata": {
        "id": "GmDPkAv1g11e"
      },
      "outputs": [],
      "source": [
        "# imgtest = None\n",
        "# for images, labels in dataloaders['train']:  \n",
        "#     print(images)\n",
        "#     print(labels)\n",
        "#     imgtest = images[3]\n",
        "#     print(imgtest.shape)\n",
        "#     break\n",
        "\n",
        "# imgtest = imgtest.numpy()\n",
        "# imgtest = np.moveaxis(imgtest, 0, -1)\n",
        "# imshow(imgtest)"
      ]
    },
    {
      "cell_type": "code",
      "execution_count": 23,
      "metadata": {
        "id": "i3CRk07JhMRU"
      },
      "outputs": [],
      "source": [
        "# modeling\n",
        "from torchvision import models\n",
        "class PlantDiseaseModel(nn.Module):\n",
        "    def __init__(self, classes):\n",
        "        super(PlantDiseaseModel, self).__init__()\n",
        "        self.model = models.shufflenet_v2_x2_0(weights = None,num_classes=classes,progress=True)\n",
        "        \n",
        "        for parameter in self.model.parameters():\n",
        "            parameter.require_grad = False\n",
        "        \n",
        "        in_features = self.model.fc.in_features\n",
        "        self.model.fc = nn.Sequential(\n",
        "            nn.Linear(in_features=in_features, out_features=classes),\n",
        "            nn.Softmax(dim=1)\n",
        "        )\n",
        "        \n",
        "    def forward(self, image):\n",
        "        output = self.model(image)\n",
        "        return output"
      ]
    },
    {
      "cell_type": "code",
      "execution_count": null,
      "metadata": {
        "id": "spjbhTGplApM"
      },
      "outputs": [],
      "source": [
        "dataloaders['train'] = DeviceDataLoader(dataloaders['train'], device)\n",
        "dataloaders['valid'] = DeviceDataLoader(dataloaders['valid'], device)\n",
        "dataloaders['test'] = DeviceDataLoader(dataloaders['test'], device)"
      ]
    },
    {
      "cell_type": "code",
      "execution_count": null,
      "metadata": {
        "id": "eRaPyRMDg3vQ"
      },
      "outputs": [],
      "source": [
        "model = to_device(PlantDiseaseModel(classes=15), device) \n",
        "# model = PlantDiseaseModel(classes=len(count))\n",
        "optimizer = optim.SGD(model.parameters(), \n",
        "                         lr = 0.0005,\n",
        "                         momentum=0.9,\n",
        "                         weight_decay=1e-4)\n",
        "\n",
        "criterion = nn.CrossEntropyLoss()\n",
        "model\n"
      ]
    },
    {
      "cell_type": "code",
      "execution_count": null,
      "metadata": {
        "id": "5l_cxeZ9m_VC"
      },
      "outputs": [],
      "source": [
        "# # defining the model and moving it to the GPU\n",
        "# model = to_device(PlantDiseaseModel(len(train.classes)), device) \n",
        "# model"
      ]
    },
    {
      "cell_type": "code",
      "execution_count": null,
      "metadata": {
        "id": "SdeHWHeXBOQV"
      },
      "outputs": [],
      "source": [
        "device\n"
      ]
    },
    {
      "cell_type": "code",
      "execution_count": null,
      "metadata": {
        "colab": {
          "background_save": true,
          "base_uri": "https://localhost:8080/"
        },
        "id": "_f0OIKtVh9w8",
        "outputId": "2cfd8d99-dc64-426f-a312-02e20441e8a6"
      },
      "outputs": [
        {
          "name": "stdout",
          "output_type": "stream",
          "text": [
            "epoch: 1/20 | trn loss: 2.6844 | val loss: 2.6591 | 12m 57s elapsed\n",
            "best model updated-epoch: 1 | val_accuracy: 7.2842\n",
            "epoch: 2/20 | trn loss: 2.6577 | val loss: 2.6422 | 16m 0s elapsed\n",
            "best model updated-epoch: 2 | val_accuracy: 7.8166\n",
            "epoch: 3/20 | trn loss: 2.6410 | val loss: 2.6230 | 19m 4s elapsed\n",
            "best model updated-epoch: 3 | val_accuracy: 8.7362\n",
            "epoch: 4/20 | trn loss: 2.6262 | val loss: 2.6120 | 22m 9s elapsed\n",
            "best model updated-epoch: 4 | val_accuracy: 9.4138\n",
            "epoch: 5/20 | trn loss: 2.6148 | val loss: 2.6027 | 25m 12s elapsed\n",
            "best model updated-epoch: 5 | val_accuracy: 9.8252\n",
            "epoch: 6/20 | trn loss: 2.6045 | val loss: 2.5913 | 28m 12s elapsed\n",
            "best model updated-epoch: 6 | val_accuracy: 10.2608\n",
            "epoch: 7/20 | trn loss: 2.5914 | val loss: 2.5821 | 31m 10s elapsed\n",
            "best model updated-epoch: 7 | val_accuracy: 10.5028\n",
            "epoch: 8/20 | trn loss: 2.5823 | val loss: 2.5751 | 34m 12s elapsed\n",
            "best model updated-epoch: 8 | val_accuracy: 10.6238\n",
            "epoch: 9/20 | trn loss: 2.5761 | val loss: 2.5685 | 37m 14s elapsed\n",
            "best model updated-epoch: 9 | val_accuracy: 10.6722\n",
            "epoch: 10/20 | trn loss: 2.5658 | val loss: 2.5564 | 40m 15s elapsed\n",
            "best model updated-epoch: 10 | val_accuracy: 10.7448\n",
            "epoch: 11/20 | trn loss: 2.5515 | val loss: 2.5378 | 43m 15s elapsed\n",
            "best model updated-epoch: 11 | val_accuracy: 13.2858\n",
            "epoch: 12/20 | trn loss: 2.5335 | val loss: 2.5241 | 46m 15s elapsed\n",
            "best model updated-epoch: 12 | val_accuracy: 13.9392\n",
            "epoch: 13/20 | trn loss: 2.5159 | val loss: 2.5095 | 49m 15s elapsed\n",
            "best model updated-epoch: 13 | val_accuracy: 14.0360\n",
            "epoch: 14/20 | trn loss: 2.5007 | val loss: 2.4917 | 52m 16s elapsed\n",
            "best model updated-epoch: 14 | val_accuracy: 14.2538\n",
            "epoch: 15/20 | trn loss: 2.4847 | val loss: 2.4735 | 55m 15s elapsed\n",
            "best model updated-epoch: 15 | val_accuracy: 15.8994\n",
            "epoch: 16/20 | trn loss: 2.4704 | val loss: 2.4614 | 58m 16s elapsed\n",
            "best model updated-epoch: 16 | val_accuracy: 16.6496\n",
            "epoch: 17/20 | trn loss: 2.4588 | val loss: 2.4473 | 61m 20s elapsed\n",
            "best model updated-epoch: 17 | val_accuracy: 17.3030\n",
            "epoch: 18/20 | trn loss: 2.4471 | val loss: 2.4450 | 64m 24s elapsed\n",
            "epoch: 19/20 | trn loss: 2.4396 | val loss: 2.4357 | 67m 26s elapsed\n",
            "best model updated-epoch: 19 | val_accuracy: 17.5450\n",
            "epoch: 20/20 | trn loss: 2.4321 | val loss: 2.4303 | 70m 23s elapsed\n",
            "best model updated-epoch: 20 | val_accuracy: 17.5692\n",
            "Training complete in 70m 23s\n",
            "Best valid Acc: 17.6\n",
            "model saved\n"
          ]
        }
      ],
      "source": [
        "num_epochs = 20\n",
        "trn_loss_list, val_loss_list, trn_acc_list, val_acc_list = [], [], [], []\n",
        "best_acc = 0.0\n",
        "dev = device\n",
        "since = time.time()\n",
        "best_model = copy.deepcopy(model.state_dict())\n",
        "\n",
        "\n",
        "for epoch in range(num_epochs):    \n",
        "    trn_loss, trn_corrects, val_loss, val_corrects = 0.0, 0, 0.0, 0\n",
        "    \n",
        "    model.train()\n",
        "    for i, (data, target) in enumerate(dataloaders['train']):\n",
        "        data, target = data.to(dev), target.to(dev)\n",
        "\n",
        "        optimizer.zero_grad()\n",
        "        output = model(data)                \n",
        "    \n",
        "        loss = criterion(output, target)\n",
        "        loss.backward()\n",
        "        \n",
        "        optimizer.step()  \n",
        "        \n",
        "        _, preds = torch.max(output, 1)\n",
        "        trn_corrects += torch.sum(preds == target.data)\n",
        "        trn_loss += loss.item()\n",
        "\n",
        "    model.eval()\n",
        "    with torch.no_grad():\n",
        "        for j, (val_data, val_target) in enumerate(dataloaders['valid']):\n",
        "            val_data, val_target = val_data.to(dev), val_target.to(dev)\n",
        "            \n",
        "            val_output = model(val_data)\n",
        "            v_loss = criterion(val_output, val_target)\n",
        "            \n",
        "            _, preds = torch.max(val_output, 1)\n",
        "            val_corrects += torch.sum(preds == val_target.data)\n",
        "            val_loss += v_loss.item()\n",
        "\n",
        "\n",
        "    trn_acc_list.append(trn_corrects * 0.008)\n",
        "    val_acc_list.append(val_corrects * 0.0242)\n",
        "    trn_loss_list.append(trn_loss/batch_num['train'])\n",
        "    val_loss_list.append(val_loss/batch_num['valid'])\n",
        "\n",
        "    time_elapsed = time.time() - since\n",
        "    wandb.log({'epoch':(epoch+1)/num_epochs,'training_loss': trn_loss/batch_num['train'],'validation_loss': val_loss/batch_num['valid']})\n",
        "    print(\"epoch: {}/{} | trn loss: {:.4f} | val loss: {:.4f} | {:.0f}m {:.0f}s elapsed\".format(\n",
        "                epoch+1, num_epochs, trn_loss / batch_num['train'], val_loss / batch_num['valid'], \n",
        "                time_elapsed // 60, time_elapsed % 60))\n",
        "\n",
        "    if val_corrects * 0.0242 > best_acc:\n",
        "      best_acc = val_corrects * 0.0242\n",
        "      best_model = copy.deepcopy(model.state_dict())\n",
        "      print(\"best model updated-epoch: {} | val_accuracy: {:.4f}\".format(epoch+1, best_acc))\n",
        "\n",
        "\n",
        "time_elapsed = time.time() - since\n",
        "print('Training complete in {:.0f}m {:.0f}s'.format(time_elapsed // 60, time_elapsed % 60))\n",
        "print('Best valid Acc: %.1f' %(best_acc))\n",
        "\n",
        "model.load_state_dict(best_model)\n",
        "torch.save(model.state_dict(), 'ShuffleNet2/best_model.pt')\n",
        "print(\"model saved\")"
      ]
    },
    {
      "cell_type": "code",
      "execution_count": null,
      "metadata": {
        "id": "JeDLe3xZyXDk"
      },
      "outputs": [],
      "source": [
        "!pwd"
      ]
    },
    {
      "cell_type": "code",
      "execution_count": null,
      "metadata": {
        "id": "kQ2-iDz24AQB"
      },
      "outputs": [],
      "source": [
        "print(trn_loss_list)"
      ]
    },
    {
      "cell_type": "code",
      "execution_count": null,
      "metadata": {
        "id": "0oxi2Hejh_04"
      },
      "outputs": [],
      "source": [
        "plt.plot(trn_loss_list, label='train_loss')\n",
        "plt.plot(val_loss_list, label='val_loss')\n",
        "plt.legend()"
      ]
    },
    {
      "cell_type": "code",
      "execution_count": null,
      "metadata": {
        "id": "Wy9RmfRviE2z"
      },
      "outputs": [],
      "source": [
        "plt.plot(trn_acc_list, label='train_acc')\n",
        "plt.plot(val_acc_list, label='val_acc')\n",
        "plt.legend()"
      ]
    },
    {
      "cell_type": "code",
      "execution_count": null,
      "metadata": {
        "id": "cI46u-6piHH0"
      },
      "outputs": [],
      "source": [
        "# best_model = PlantDiseaseModel()\n",
        "# best_model.load_state_dict(torch.load('best_model.pt'))\n"
      ]
    },
    {
      "cell_type": "code",
      "execution_count": null,
      "metadata": {
        "id": "2O_MVsQOSZ0F"
      },
      "outputs": [],
      "source": [
        "%pwd"
      ]
    },
    {
      "cell_type": "code",
      "execution_count": null,
      "metadata": {
        "id": "2VWk6o6ZiOh0"
      },
      "outputs": [],
      "source": [
        "corrects = 0\n",
        "total = 0\n",
        "best_model = PlantDiseaseModel(classes =15)\n",
        "best_model.load_state_dict(torch.load('ShuffleNet2/best_model.pt'))\n",
        "best_model.eval()\n",
        "with torch.no_grad():\n",
        "    for j, (data, target) in enumerate(dataloaders['test']):\n",
        "        data, target = data.to(dev), target.to(dev)\n",
        "\n",
        "        output = best_model(data)\n",
        "        \n",
        "        _, preds = torch.max(output, 1)\n",
        "        corrects += torch.sum(preds == target.data)\n",
        "        total += len(preds)\n",
        "        \n",
        "print(\"{}/{} | test accuracy: {:.4f}\".format(corrects, total, corrects/total))"
      ]
    },
    {
      "cell_type": "code",
      "source": [
        "from sklearn.metrics import confusion_matrix, precision_score, recall_score, f1_score\n",
        "best_model = PlantDiseaseModel(classes =15)\n",
        "best_model.load_state_dict(torch.load('ShuffleNet2/best_model.pt'))\n",
        "best_model = best_model.to(device)\n",
        "# Set the model to evaluation mode\n",
        "best_model.eval()\n",
        "\n",
        "# Initialize lists to store true labels and predicted labels\n",
        "true_labels = []\n",
        "pred_labels = []\n",
        "\n",
        "# Loop over the validation dataset in batches\n",
        "for images, labels in dataloaders['test']:\n",
        "    images, labels = images.to(device), labels.to(device)\n",
        "    # Predict the labels\n",
        "    outputs = best_model(images)\n",
        "    _, predicted = torch.max(outputs, 1)\n",
        "\n",
        "    # Append the true and predicted labels to the corresponding lists\n",
        "    true_labels.extend(labels.tolist())\n",
        "    pred_labels.extend(predicted.tolist())\n",
        "\n",
        "# Compute the confusion matrix\n",
        "conf_matrix = confusion_matrix(true_labels, pred_labels)\n",
        "\n",
        "# Compute precision, recall, and F-score\n",
        "precision = precision_score(true_labels, pred_labels, average='macro')\n",
        "recall = recall_score(true_labels, pred_labels, average='macro')\n",
        "f_score = f1_score(true_labels, pred_labels, average='macro')\n",
        "\n",
        "print('Precision: {:.4f}, Recall: {:.4f}, F-score: {:.4f}'.format(precision, recall, f_score))\n",
        "print('Confusion matrix:\\n', conf_matrix)"
      ],
      "metadata": {
        "colab": {
          "base_uri": "https://localhost:8080/"
        },
        "id": "PpZUDwdR0Stk",
        "outputId": "0695e251-0a00-4a1c-bb5f-e30db5137591"
      },
      "execution_count": 32,
      "outputs": [
        {
          "output_type": "stream",
          "name": "stderr",
          "text": [
            "/usr/local/lib/python3.9/dist-packages/torch/utils/data/dataloader.py:561: UserWarning: This DataLoader will create 8 worker processes in total. Our suggested max number of worker in current system is 2, which is smaller than what this DataLoader is going to create. Please be aware that excessive worker creation might get DataLoader running slow or even freeze, lower the worker number to avoid potential slowness/freeze if necessary.\n",
            "  warnings.warn(_create_warning_msg(\n"
          ]
        },
        {
          "output_type": "stream",
          "name": "stdout",
          "text": [
            "Precision: 0.1126, Recall: 0.2409, F-score: 0.1467\n",
            "Confusion matrix:\n",
            " [[  0   0   0   0   0   2   0   0   0  87 120   0   9   0   0]\n",
            " [  0   0   0   0   0  34   0   0   0  88 173   0  27   0   0]\n",
            " [  0   0   0   0   0   5   0   0   0 170  55   0   0   0   0]\n",
            " [  0   0   0   0   0  58   0   0   0  18 103   0   4   0   0]\n",
            " [  0   0   0   0   0   0   0   0   0   7  15   0   0   0   0]\n",
            " [  0   0   0   0   0 403   0   0   0   0   1   0  16   0   0]\n",
            " [  0   0   0   0   0  63   0   0   0  40  46   0  33   0   0]\n",
            " [  0   0   0   0   0 157   0   0   0  85 127   0  40   0   0]\n",
            " [  0   0   0   0   0  29   0   0   0  55  80   0  36   0   0]\n",
            " [  0   0   0   0   0  15   0   0   0 306  50   0   2   0   0]\n",
            " [  0   0   0   0   0   6   0   0   0   9 292   0  26   0   0]\n",
            " [  0   0   0   0   0  18   0   0   0  97 169   0   4   0   0]\n",
            " [  0   0   0   0   0   5   0   0   0   0  26   0 678   0   0]\n",
            " [  0   0   0   0   0   0   0   0   0  54  23   0   1   0   0]\n",
            " [  0   0   0   0   0 147   0   0   0  66 144   0   0   0   0]]\n"
          ]
        },
        {
          "output_type": "stream",
          "name": "stderr",
          "text": [
            "/usr/local/lib/python3.9/dist-packages/sklearn/metrics/_classification.py:1344: UndefinedMetricWarning: Precision is ill-defined and being set to 0.0 in labels with no predicted samples. Use `zero_division` parameter to control this behavior.\n",
            "  _warn_prf(average, modifier, msg_start, len(result))\n"
          ]
        }
      ]
    },
    {
      "cell_type": "code",
      "source": [
        "import matplotlib.pyplot as plt\n",
        "import seaborn as sns\n",
        "\n",
        "plt.figure(figsize=(18, 14))\n",
        "sns.heatmap(conf_matrix, annot=True, fmt='d', cmap='Blues')\n",
        "plt.title('Confusion matrix')\n",
        "plt.xlabel('Predicted')\n",
        "plt.ylabel('True')\n",
        "plt.show()\n"
      ],
      "metadata": {
        "colab": {
          "base_uri": "https://localhost:8080/",
          "height": 1000
        },
        "id": "kI2cPbbM4Piq",
        "outputId": "498a6979-da89-4df6-a473-0277f7abac99"
      },
      "execution_count": 33,
      "outputs": [
        {
          "output_type": "display_data",
          "data": {
            "text/plain": [
              "<Figure size 1800x1400 with 2 Axes>"
            ],
            "image/png": "[encoded data removed]"
          },
          "metadata": {}
        }
      ]
    }
  ],
  "metadata": {
    "accelerator": "GPU",
    "colab": {
      "provenance": []
    },
    "gpuClass": "standard",
    "kernelspec": {
      "display_name": "Python 3",
      "name": "python3"
    },
    "language_info": {
      "name": "python"
    },
    "widgets": {
      "application/vnd.jupyter.widget-state+json": {
        "d05faecd1f3e424fb729d376f8823636": {
          "model_module": "@jupyter-widgets/controls",
          "model_name": "VBoxModel",
          "model_module_version": "1.5.0",
          "state": {
            "_dom_classes": [],
            "_model_module": "@jupyter-widgets/controls",
            "_model_module_version": "1.5.0",
            "_model_name": "VBoxModel",
            "_view_count": null,
            "_view_module": "@jupyter-widgets/controls",
            "_view_module_version": "1.5.0",
            "_view_name": "VBoxView",
            "box_style": "",
            "children": [
              "IPY_MODEL_74e91fc657414e0c9b24ec1d76ce52d8",
              "IPY_MODEL_14183bcd7c6b427f929d512a206c9d1f"
            ],
            "layout": "IPY_MODEL_5d60d51a8bde47749e5bfda4bee097f3"
          }
        },
        "74e91fc657414e0c9b24ec1d76ce52d8": {
          "model_module": "@jupyter-widgets/controls",
          "model_name": "LabelModel",
          "model_module_version": "1.5.0",
          "state": {
            "_dom_classes": [],
            "_model_module": "@jupyter-widgets/controls",
            "_model_module_version": "1.5.0",
            "_model_name": "LabelModel",
            "_view_count": null,
            "_view_module": "@jupyter-widgets/controls",
            "_view_module_version": "1.5.0",
            "_view_name": "LabelView",
            "description": "",
            "description_tooltip": null,
            "layout": "IPY_MODEL_80162c4830df49fcbcba792e466c0d62",
            "placeholder": "​",
            "style": "IPY_MODEL_4819e33f3cdb4569adc5b4e643156c17",
            "value": "Waiting for wandb.init()...\r"
          }
        },
        "14183bcd7c6b427f929d512a206c9d1f": {
          "model_module": "@jupyter-widgets/controls",
          "model_name": "FloatProgressModel",
          "model_module_version": "1.5.0",
          "state": {
            "_dom_classes": [],
            "_model_module": "@jupyter-widgets/controls",
            "_model_module_version": "1.5.0",
            "_model_name": "FloatProgressModel",
            "_view_count": null,
            "_view_module": "@jupyter-widgets/controls",
            "_view_module_version": "1.5.0",
            "_view_name": "ProgressView",
            "bar_style": "",
            "description": "",
            "description_tooltip": null,
            "layout": "IPY_MODEL_e972ecf211a94f56ba9778d132e3ba87",
            "max": 1,
            "min": 0,
            "orientation": "horizontal",
            "style": "IPY_MODEL_2c5bc9f773634fbabd528811d856ca1c",
            "value": 1
          }
        },
        "5d60d51a8bde47749e5bfda4bee097f3": {
          "model_module": "@jupyter-widgets/base",
          "model_name": "LayoutModel",
          "model_module_version": "1.2.0",
          "state": {
            "_model_module": "@jupyter-widgets/base",
            "_model_module_version": "1.2.0",
            "_model_name": "LayoutModel",
            "_view_count": null,
            "_view_module": "@jupyter-widgets/base",
            "_view_module_version": "1.2.0",
            "_view_name": "LayoutView",
            "align_content": null,
            "align_items": null,
            "align_self": null,
            "border": null,
            "bottom": null,
            "display": null,
            "flex": null,
            "flex_flow": null,
            "grid_area": null,
            "grid_auto_columns": null,
            "grid_auto_flow": null,
            "grid_auto_rows": null,
            "grid_column": null,
            "grid_gap": null,
            "grid_row": null,
            "grid_template_areas": null,
            "grid_template_columns": null,
            "grid_template_rows": null,
            "height": null,
            "justify_content": null,
            "justify_items": null,
            "left": null,
            "margin": null,
            "max_height": null,
            "max_width": null,
            "min_height": null,
            "min_width": null,
            "object_fit": null,
            "object_position": null,
            "order": null,
            "overflow": null,
            "overflow_x": null,
            "overflow_y": null,
            "padding": null,
            "right": null,
            "top": null,
            "visibility": null,
            "width": null
          }
        },
        "80162c4830df49fcbcba792e466c0d62": {
          "model_module": "@jupyter-widgets/base",
          "model_name": "LayoutModel",
          "model_module_version": "1.2.0",
          "state": {
            "_model_module": "@jupyter-widgets/base",
            "_model_module_version": "1.2.0",
            "_model_name": "LayoutModel",
            "_view_count": null,
            "_view_module": "@jupyter-widgets/base",
            "_view_module_version": "1.2.0",
            "_view_name": "LayoutView",
            "align_content": null,
            "align_items": null,
            "align_self": null,
            "border": null,
            "bottom": null,
            "display": null,
            "flex": null,
            "flex_flow": null,
            "grid_area": null,
            "grid_auto_columns": null,
            "grid_auto_flow": null,
            "grid_auto_rows": null,
            "grid_column": null,
            "grid_gap": null,
            "grid_row": null,
            "grid_template_areas": null,
            "grid_template_columns": null,
            "grid_template_rows": null,
            "height": null,
            "justify_content": null,
            "justify_items": null,
            "left": null,
            "margin": null,
            "max_height": null,
            "max_width": null,
            "min_height": null,
            "min_width": null,
            "object_fit": null,
            "object_position": null,
            "order": null,
            "overflow": null,
            "overflow_x": null,
            "overflow_y": null,
            "padding": null,
            "right": null,
            "top": null,
            "visibility": null,
            "width": null
          }
        },
        "4819e33f3cdb4569adc5b4e643156c17": {
          "model_module": "@jupyter-widgets/controls",
          "model_name": "DescriptionStyleModel",
          "model_module_version": "1.5.0",
          "state": {
            "_model_module": "@jupyter-widgets/controls",
            "_model_module_version": "1.5.0",
            "_model_name": "DescriptionStyleModel",
            "_view_count": null,
            "_view_module": "@jupyter-widgets/base",
            "_view_module_version": "1.2.0",
            "_view_name": "StyleView",
            "description_width": ""
          }
        },
        "e972ecf211a94f56ba9778d132e3ba87": {
          "model_module": "@jupyter-widgets/base",
          "model_name": "LayoutModel",
          "model_module_version": "1.2.0",
          "state": {
            "_model_module": "@jupyter-widgets/base",
            "_model_module_version": "1.2.0",
            "_model_name": "LayoutModel",
            "_view_count": null,
            "_view_module": "@jupyter-widgets/base",
            "_view_module_version": "1.2.0",
            "_view_name": "LayoutView",
            "align_content": null,
            "align_items": null,
            "align_self": null,
            "border": null,
            "bottom": null,
            "display": null,
            "flex": null,
            "flex_flow": null,
            "grid_area": null,
            "grid_auto_columns": null,
            "grid_auto_flow": null,
            "grid_auto_rows": null,
            "grid_column": null,
            "grid_gap": null,
            "grid_row": null,
            "grid_template_areas": null,
            "grid_template_columns": null,
            "grid_template_rows": null,
            "height": null,
            "justify_content": null,
            "justify_items": null,
            "left": null,
            "margin": null,
            "max_height": null,
            "max_width": null,
            "min_height": null,
            "min_width": null,
            "object_fit": null,
            "object_position": null,
            "order": null,
            "overflow": null,
            "overflow_x": null,
            "overflow_y": null,
            "padding": null,
            "right": null,
            "top": null,
            "visibility": null,
            "width": null
          }
        },
        "2c5bc9f773634fbabd528811d856ca1c": {
          "model_module": "@jupyter-widgets/controls",
          "model_name": "ProgressStyleModel",
          "model_module_version": "1.5.0",
          "state": {
            "_model_module": "@jupyter-widgets/controls",
            "_model_module_version": "1.5.0",
            "_model_name": "ProgressStyleModel",
            "_view_count": null,
            "_view_module": "@jupyter-widgets/base",
            "_view_module_version": "1.2.0",
            "_view_name": "StyleView",
            "bar_color": null,
            "description_width": ""
          }
        }
      }
    }
  },
  "nbformat": 4,
  "nbformat_minor": 0
}