{
  "cells": [
    {
      "cell_type": "code",
      "execution_count": 1,
      "metadata": {
        "id": "2leNDJKZb1nl",
        "colab": {
          "base_uri": "https://localhost:8080/"
        },
        "outputId": "d5ab766b-c998-4ca5-9d8b-b1a7bf723330"
      },
      "outputs": [
        {
          "output_type": "stream",
          "name": "stdout",
          "text": [
            "Mounted at /content/drive\n"
          ]
        }
      ],
      "source": [
        "from google.colab import drive\n",
        "drive.mount('/content/drive')"
      ]
    },
    {
      "cell_type": "code",
      "execution_count": 2,
      "metadata": {
        "id": "J4eMnx0zoaGA",
        "colab": {
          "base_uri": "https://localhost:8080/"
        },
        "outputId": "06d544fa-de82-451c-8805-433dd191a135"
      },
      "outputs": [
        {
          "output_type": "stream",
          "name": "stdout",
          "text": [
            "Looking in indexes: https://pypi.org/simple, https://us-python.pkg.dev/colab-wheels/public/simple/\n",
            "Collecting wandb\n",
            "  Downloading wandb-0.14.2-py3-none-any.whl (2.0 MB)\n",
            "\u001b[2K     \u001b[90m━━━━━━━━━━━━━━━━━━━━━━━━━━━━━━━━━━━━━━━━\u001b[0m \u001b[32m2.0/2.0 MB\u001b[0m \u001b[31m37.9 MB/s\u001b[0m eta \u001b[36m0:00:00\u001b[0m\n",
            "\u001b[?25hRequirement already satisfied: PyYAML in /usr/local/lib/python3.9/dist-packages (from wandb) (6.0)\n",
            "Collecting GitPython!=3.1.29,>=1.0.0\n",
            "  Downloading GitPython-3.1.31-py3-none-any.whl (184 kB)\n",
            "\u001b[2K     \u001b[90m━━━━━━━━━━━━━━━━━━━━━━━━━━━━━━━━━━━━━━\u001b[0m \u001b[32m184.3/184.3 kB\u001b[0m \u001b[31m24.9 MB/s\u001b[0m eta \u001b[36m0:00:00\u001b[0m\n",
            "\u001b[?25hRequirement already satisfied: typing-extensions in /usr/local/lib/python3.9/dist-packages (from wandb) (4.5.0)\n",
            "Collecting docker-pycreds>=0.4.0\n",
            "  Downloading docker_pycreds-0.4.0-py2.py3-none-any.whl (9.0 kB)\n",
            "Requirement already satisfied: Click!=8.0.0,>=7.0 in /usr/local/lib/python3.9/dist-packages (from wandb) (8.1.3)\n",
            "Requirement already satisfied: appdirs>=1.4.3 in /usr/local/lib/python3.9/dist-packages (from wandb) (1.4.4)\n",
            "Requirement already satisfied: protobuf!=4.21.0,<5,>=3.15.0 in /usr/local/lib/python3.9/dist-packages (from wandb) (3.20.3)\n",
            "Requirement already satisfied: psutil>=5.0.0 in /usr/local/lib/python3.9/dist-packages (from wandb) (5.9.4)\n",
            "Collecting sentry-sdk>=1.0.0\n",
            "  Downloading sentry_sdk-1.19.1-py2.py3-none-any.whl (199 kB)\n",
            "\u001b[2K     \u001b[90m━━━━━━━━━━━━━━━━━━━━━━━━━━━━━━━━━━━━━━\u001b[0m \u001b[32m199.2/199.2 kB\u001b[0m \u001b[31m22.0 MB/s\u001b[0m eta \u001b[36m0:00:00\u001b[0m\n",
            "\u001b[?25hCollecting setproctitle\n",
            "  Downloading setproctitle-1.3.2-cp39-cp39-manylinux_2_5_x86_64.manylinux1_x86_64.manylinux_2_17_x86_64.manylinux2014_x86_64.whl (30 kB)\n",
            "Requirement already satisfied: requests<3,>=2.0.0 in /usr/local/lib/python3.9/dist-packages (from wandb) (2.27.1)\n",
            "Collecting pathtools\n",
            "  Downloading pathtools-0.1.2.tar.gz (11 kB)\n",
            "  Preparing metadata (setup.py) ... \u001b[?25l\u001b[?25hdone\n",
            "Requirement already satisfied: setuptools in /usr/local/lib/python3.9/dist-packages (from wandb) (67.6.1)\n",
            "Requirement already satisfied: six>=1.4.0 in /usr/local/lib/python3.9/dist-packages (from docker-pycreds>=0.4.0->wandb) (1.16.0)\n",
            "Collecting gitdb<5,>=4.0.1\n",
            "  Downloading gitdb-4.0.10-py3-none-any.whl (62 kB)\n",
            "\u001b[2K     \u001b[90m━━━━━━━━━━━━━━━━━━━━━━━━━━━━━━━━━━━━━━━━\u001b[0m \u001b[32m62.7/62.7 kB\u001b[0m \u001b[31m9.8 MB/s\u001b[0m eta \u001b[36m0:00:00\u001b[0m\n",
            "\u001b[?25hRequirement already satisfied: charset-normalizer~=2.0.0 in /usr/local/lib/python3.9/dist-packages (from requests<3,>=2.0.0->wandb) (2.0.12)\n",
            "Requirement already satisfied: idna<4,>=2.5 in /usr/local/lib/python3.9/dist-packages (from requests<3,>=2.0.0->wandb) (3.4)\n",
            "Requirement already satisfied: urllib3<1.27,>=1.21.1 in /usr/local/lib/python3.9/dist-packages (from requests<3,>=2.0.0->wandb) (1.26.15)\n",
            "Requirement already satisfied: certifi>=2017.4.17 in /usr/local/lib/python3.9/dist-packages (from requests<3,>=2.0.0->wandb) (2022.12.7)\n",
            "Collecting smmap<6,>=3.0.1\n",
            "  Downloading smmap-5.0.0-py3-none-any.whl (24 kB)\n",
            "Building wheels for collected packages: pathtools\n",
            "  Building wheel for pathtools (setup.py) ... \u001b[?25l\u001b[?25hdone\n",
            "  Created wheel for pathtools: filename=pathtools-0.1.2-py3-none-any.whl size=8807 sha256=09fce43c0835407c6935078bcf474f87e41a0cd295a8700a6c401e77062f4eec\n",
            "  Stored in directory: /root/.cache/pip/wheels/b7/0a/67/ada2a22079218c75a88361c0782855cc72aebc4d18d0289d05\n",
            "Successfully built pathtools\n",
            "Installing collected packages: pathtools, smmap, setproctitle, sentry-sdk, docker-pycreds, gitdb, GitPython, wandb\n",
            "Successfully installed GitPython-3.1.31 docker-pycreds-0.4.0 gitdb-4.0.10 pathtools-0.1.2 sentry-sdk-1.19.1 setproctitle-1.3.2 smmap-5.0.0 wandb-0.14.2\n"
          ]
        }
      ],
      "source": [
        "! pip install wandb"
      ]
    },
    {
      "cell_type": "code",
      "execution_count": 3,
      "metadata": {
        "colab": {
          "base_uri": "https://localhost:8080/",
          "height": 70
        },
        "id": "7zNNq4RTocBi",
        "outputId": "a45d2f63-de4e-4c5f-c330-a2650d50b6ac"
      },
      "outputs": [
        {
          "output_type": "display_data",
          "data": {
            "text/plain": [
              "<IPython.core.display.Javascript object>"
            ],
            "application/javascript": [
              "\n",
              "        window._wandbApiKey = new Promise((resolve, reject) => {\n",
              "            function loadScript(url) {\n",
              "            return new Promise(function(resolve, reject) {\n",
              "                let newScript = document.createElement(\"script\");\n",
              "                newScript.onerror = reject;\n",
              "                newScript.onload = resolve;\n",
              "                document.body.appendChild(newScript);\n",
              "                newScript.src = url;\n",
              "            });\n",
              "            }\n",
              "            loadScript(\"https://cdn.jsdelivr.net/npm/postmate/build/postmate.min.js\").then(() => {\n",
              "            const iframe = document.createElement('iframe')\n",
              "            iframe.style.cssText = \"width:0;height:0;border:none\"\n",
              "            document.body.appendChild(iframe)\n",
              "            const handshake = new Postmate({\n",
              "                container: iframe,\n",
              "                url: 'https://wandb.ai/authorize'\n",
              "            });\n",
              "            const timeout = setTimeout(() => reject(\"Couldn't auto authenticate\"), 5000)\n",
              "            handshake.then(function(child) {\n",
              "                child.on('authorize', data => {\n",
              "                    clearTimeout(timeout)\n",
              "                    resolve(data)\n",
              "                });\n",
              "            });\n",
              "            })\n",
              "        });\n",
              "    "
            ]
          },
          "metadata": {}
        },
        {
          "output_type": "stream",
          "name": "stderr",
          "text": [
            "\u001b[34m\u001b[1mwandb\u001b[0m: Appending key for api.wandb.ai to your netrc file: /root/.netrc\n"
          ]
        },
        {
          "output_type": "execute_result",
          "data": {
            "text/plain": [
              "True"
            ]
          },
          "metadata": {},
          "execution_count": 3
        }
      ],
      "source": [
        "import wandb\n",
        "wandb.login()\n",
        "#ec0fa02abb6680e2e41f9e94ffb3c3a636ca9007"
      ]
    },
    {
      "cell_type": "code",
      "execution_count": 4,
      "metadata": {
        "colab": {
          "base_uri": "https://localhost:8080/"
        },
        "id": "7f_8jy8Wb2C1",
        "outputId": "9a73391d-6303-4722-82c2-6ae63a710e8b"
      },
      "outputs": [
        {
          "output_type": "stream",
          "name": "stdout",
          "text": [
            "/content/drive/.shortcut-targets-by-id/1beS3uwOpI8c8fbKBFTXm97pjU-hHLvVr/AI Project/Dataset1\n"
          ]
        }
      ],
      "source": [
        "%cd  '/content/drive/MyDrive/AI Project/Dataset1/'\n",
        "# # /content/drive/MyDrive/AI Project/Dataset1/PlantVillage"
      ]
    },
    {
      "cell_type": "code",
      "execution_count": 5,
      "metadata": {
        "colab": {
          "base_uri": "https://localhost:8080/",
          "height": 35
        },
        "id": "xYFa822Mxmjf",
        "outputId": "cc2c589f-68ed-4fd8-a62c-8a178b6f109b"
      },
      "outputs": [
        {
          "output_type": "execute_result",
          "data": {
            "text/plain": [
              "'/content/drive/.shortcut-targets-by-id/1beS3uwOpI8c8fbKBFTXm97pjU-hHLvVr/AI Project/Dataset1'"
            ],
            "application/vnd.google.colaboratory.intrinsic+json": {
              "type": "string"
            }
          },
          "metadata": {},
          "execution_count": 5
        }
      ],
      "source": [
        "%pwd"
      ]
    },
    {
      "cell_type": "code",
      "execution_count": 6,
      "metadata": {
        "id": "Ag0bSqalfi2v"
      },
      "outputs": [],
      "source": [
        "from PIL import Image\n",
        "import matplotlib\n",
        "import matplotlib.pyplot as plt\n",
        "from matplotlib.pyplot import imshow\n",
        "\n",
        "import torch\n",
        "import torch.nn as nn\n",
        "import torch.nn.functional as F\n",
        "import torch.optim as optim\n",
        "from torch.optim import lr_scheduler\n",
        "import torchvision\n",
        "from torchvision import datasets\n",
        "from torchvision import transforms\n",
        "from torch.utils.data import DataLoader\n",
        "\n",
        "from sklearn.model_selection import train_test_split\n",
        "from torch.utils.data import Subset\n",
        "\n",
        "import numpy as np\n",
        "import random\n",
        "import time\n",
        "import copy\n",
        "\n",
        "import pickle\n",
        "import cv2\n",
        "from os import listdir\n",
        "from sklearn.preprocessing import LabelBinarizer\n",
        "from sklearn.preprocessing import MultiLabelBinarizer\n",
        "from sklearn.model_selection import train_test_split\n",
        "from tensorflow.keras.utils import img_to_array\n",
        "from keras.preprocessing.image import ImageDataGenerator "
      ]
    },
    {
      "cell_type": "code",
      "execution_count": 7,
      "metadata": {
        "id": "kjNWjbacbP8E"
      },
      "outputs": [],
      "source": [
        "EPOCHS = 10\n",
        "INIT_LR = 1e-3\n",
        "BS = 32\n",
        "default_image_size = tuple((256, 256))\n",
        "image_size = 0\n",
        "directory_root = '/content/drive/MyDrive/AI Project/Dataset1/PlantVillage'\n",
        "width=256\n",
        "height=256\n",
        "depth=3\n",
        "batch_size = 128"
      ]
    },
    {
      "cell_type": "code",
      "execution_count": 8,
      "metadata": {
        "id": "A7sw5wukaJ5t"
      },
      "outputs": [],
      "source": [
        "train_config = {\"EPOCHS\" : 10,\n",
        "\"INIT_LR\" : 1e-3,\n",
        "\"BS\" : 32,\n",
        "\"default_image_size\" : tuple((256, 256)),\n",
        "\"image_size\" : 0,\n",
        "\"directory_root\" : '/content/drive/MyDrive/AI Project/Dataset1/PlantVillage',\n",
        "\"width\":256,\n",
        "\"height\":256,\n",
        "\"depth\":3,\n",
        "\"batch_size\" : 128}"
      ]
    },
    {
      "cell_type": "code",
      "execution_count": 9,
      "metadata": {
        "colab": {
          "base_uri": "https://localhost:8080/",
          "height": 122
        },
        "id": "S_t-VJq7pXX7",
        "outputId": "08712595-a4e2-4cc3-a79c-403b3cab3449"
      },
      "outputs": [
        {
          "output_type": "stream",
          "name": "stderr",
          "text": [
            "\u001b[34m\u001b[1mwandb\u001b[0m: Currently logged in as: \u001b[33mshiransilva143\u001b[0m (\u001b[33mshiranaai\u001b[0m). Use \u001b[1m`wandb login --relogin`\u001b[0m to force relogin\n"
          ]
        },
        {
          "output_type": "display_data",
          "data": {
            "text/plain": [
              "<IPython.core.display.HTML object>"
            ],
            "text/html": [
              "Tracking run with wandb version 0.14.2"
            ]
          },
          "metadata": {}
        },
        {
          "output_type": "display_data",
          "data": {
            "text/plain": [
              "<IPython.core.display.HTML object>"
            ],
            "text/html": [
              "Run data is saved locally in <code>/content/drive/.shortcut-targets-by-id/1beS3uwOpI8c8fbKBFTXm97pjU-hHLvVr/AI Project/Dataset1/wandb/run-20230410_185148-xc8lb5ao</code>"
            ]
          },
          "metadata": {}
        },
        {
          "output_type": "display_data",
          "data": {
            "text/plain": [
              "<IPython.core.display.HTML object>"
            ],
            "text/html": [
              "Syncing run <strong><a href='https://wandb.ai/shiranaai/shuffleNet2/runs/xc8lb5ao' target=\"_blank\">noble-wildflower-5</a></strong> to <a href='https://wandb.ai/shiranaai/shuffleNet2' target=\"_blank\">Weights & Biases</a> (<a href='https://wandb.me/run' target=\"_blank\">docs</a>)<br/>"
            ]
          },
          "metadata": {}
        },
        {
          "output_type": "display_data",
          "data": {
            "text/plain": [
              "<IPython.core.display.HTML object>"
            ],
            "text/html": [
              " View project at <a href='https://wandb.ai/shiranaai/shuffleNet2' target=\"_blank\">https://wandb.ai/shiranaai/shuffleNet2</a>"
            ]
          },
          "metadata": {}
        },
        {
          "output_type": "display_data",
          "data": {
            "text/plain": [
              "<IPython.core.display.HTML object>"
            ],
            "text/html": [
              " View run at <a href='https://wandb.ai/shiranaai/shuffleNet2/runs/xc8lb5ao' target=\"_blank\">https://wandb.ai/shiranaai/shuffleNet2/runs/xc8lb5ao</a>"
            ]
          },
          "metadata": {}
        }
      ],
      "source": [
        "run = wandb.init(project=\"shuffleNet2\", config=train_config)"
      ]
    },
    {
      "cell_type": "code",
      "execution_count": 10,
      "metadata": {
        "id": "j8d80GewbfVi"
      },
      "outputs": [],
      "source": [
        "def convert_image_to_array(image_dir):\n",
        "    try:\n",
        "        image = cv2.imread(image_dir)\n",
        "        if image is not None :\n",
        "            image = cv2.resize(image, default_image_size)   \n",
        "            return img_to_array(image)\n",
        "        else :\n",
        "            return np.array([])\n",
        "    except Exception as e:\n",
        "        print(f\"Error : {e}\")\n",
        "        return None"
      ]
    },
    {
      "cell_type": "code",
      "execution_count": 11,
      "metadata": {
        "id": "r_hTDB6Ycskp"
      },
      "outputs": [],
      "source": [
        "\n",
        "\n",
        "data_path = '/content/drive/MyDrive/AI Project/Dataset1/PlantVillage_15 classes/'\n",
        "leaf_datasets = datasets.ImageFolder(\n",
        "    data_path,\n",
        "    transforms.Compose([\n",
        "        transforms.Resize((224, 224)),\n",
        "        transforms.ToTensor(),\n",
        "        transforms.Normalize(mean=[0.485, 0.456, 0.406], std=[0.229, 0.224, 0.225]),\n",
        "    ])\n",
        ")"
      ]
    },
    {
      "cell_type": "code",
      "execution_count": 12,
      "metadata": {
        "id": "LOQE18_hgkhf"
      },
      "outputs": [],
      "source": [
        "random_seed = 33\n",
        "random.seed(random_seed)\n",
        "torch.manual_seed(random_seed)\n",
        "\n",
        "dataset = {}\n",
        "\n",
        "train_idx, valtest_idx = train_test_split(list(range(len(leaf_datasets))), test_size=0.3, random_state=random_seed)\n",
        "dataset['train'] = Subset(leaf_datasets, train_idx)\n",
        "valtest          = Subset(leaf_datasets, valtest_idx)\n",
        "\n",
        "\n",
        "val_idx, test_idx = train_test_split(list(range(len(valtest))), test_size=0.7, random_state=random_seed)\n",
        "dataset['valid'] = Subset(valtest, val_idx)\n",
        "dataset['test']  = Subset(valtest, test_idx)"
      ]
    },
    {
      "cell_type": "code",
      "execution_count": 13,
      "metadata": {
        "colab": {
          "base_uri": "https://localhost:8080/"
        },
        "id": "7vJKgY0XgoM4",
        "outputId": "1ddb6815-2180-446e-dc74-08c594b4bde0"
      },
      "outputs": [
        {
          "output_type": "stream",
          "name": "stdout",
          "text": [
            "14411\n",
            "1853\n",
            "4324\n"
          ]
        }
      ],
      "source": [
        "print(len(dataset['train']))\n",
        "print(len(dataset['valid']))\n",
        "print(len(dataset['test']))"
      ]
    },
    {
      "cell_type": "code",
      "execution_count": null,
      "metadata": {
        "id": "30UPKFWRVWbj"
      },
      "outputs": [],
      "source": []
    },
    {
      "cell_type": "code",
      "execution_count": 14,
      "metadata": {
        "id": "-R1xXfrfbitF"
      },
      "outputs": [],
      "source": [
        "def get_default_device():\n",
        "    \"\"\"Pick GPU if available, else CPU\"\"\"\n",
        "    if torch.cuda.is_available:\n",
        "        return torch.device(\"cuda\")\n",
        "    else:\n",
        "        return torch.device(\"cpu\")"
      ]
    },
    {
      "cell_type": "code",
      "execution_count": 15,
      "metadata": {
        "id": "TS-S9e9-cCrA"
      },
      "outputs": [],
      "source": [
        "def to_device(data, device):\n",
        "    \"\"\"Move tensor(s) to chosen device\"\"\"\n",
        "    if isinstance(data, (list,tuple)):\n",
        "        return [to_device(x, device) for x in data]\n",
        "    return data.to(device, non_blocking=True)\n",
        "\n",
        "class DeviceDataLoader():\n",
        "    \"\"\"Wrap a dataloader to move data to a device\"\"\"\n",
        "    def __init__(self, dl, device):\n",
        "        self.dl = dl\n",
        "        self.device = device\n",
        "        \n",
        "    def __iter__(self):\n",
        "        \"\"\"Yield a batch of data after moving it to device\"\"\"\n",
        "        for b in self.dl:\n",
        "            yield to_device(b, self.device)\n",
        "        \n",
        "    def __len__(self):\n",
        "        \"\"\"Number of batches\"\"\"\n",
        "        return len(self.dl)"
      ]
    },
    {
      "cell_type": "code",
      "execution_count": 16,
      "metadata": {
        "colab": {
          "base_uri": "https://localhost:8080/"
        },
        "id": "qdGIgPwWbc3Z",
        "outputId": "d89ab4fb-6fb8-4451-acc5-cd1e0e735ace"
      },
      "outputs": [
        {
          "output_type": "execute_result",
          "data": {
            "text/plain": [
              "device(type='cuda')"
            ]
          },
          "metadata": {},
          "execution_count": 16
        }
      ],
      "source": [
        "device = get_default_device()\n",
        "device"
      ]
    },
    {
      "cell_type": "code",
      "execution_count": 16,
      "metadata": {
        "id": "V59_XcYlcCXW"
      },
      "outputs": [],
      "source": []
    },
    {
      "cell_type": "code",
      "execution_count": 17,
      "metadata": {
        "colab": {
          "base_uri": "https://localhost:8080/"
        },
        "id": "1ZA3v1z4gqea",
        "outputId": "e84c37eb-d12b-4205-b42d-bb6ab35a879a"
      },
      "outputs": [
        {
          "output_type": "stream",
          "name": "stdout",
          "text": [
            "batch_size : 128,  train/valid/test : 113 / 15 / 34\n"
          ]
        },
        {
          "output_type": "stream",
          "name": "stderr",
          "text": [
            "/usr/local/lib/python3.9/dist-packages/torch/utils/data/dataloader.py:561: UserWarning: This DataLoader will create 8 worker processes in total. Our suggested max number of worker in current system is 2, which is smaller than what this DataLoader is going to create. Please be aware that excessive worker creation might get DataLoader running slow or even freeze, lower the worker number to avoid potential slowness/freeze if necessary.\n",
            "  warnings.warn(_create_warning_msg(\n"
          ]
        }
      ],
      "source": [
        "dataloaders, batch_num = {}, {}\n",
        "dataloaders['train'] = DataLoader(dataset['train'],\n",
        "                                  batch_size=batch_size, shuffle=True,\n",
        "                                  num_workers=8)\n",
        "dataloaders['valid'] = DataLoader(dataset['valid'],\n",
        "                                  batch_size=batch_size, shuffle=True,\n",
        "                                  num_workers=8)\n",
        "dataloaders['test'] = DataLoader(dataset['test'],\n",
        "                                  batch_size=batch_size, shuffle=False,\n",
        "                                  num_workers=8)\n",
        "\n",
        "\n",
        "batch_num['train'], batch_num['valid'], batch_num['test'] = len(dataloaders['train']), len(dataloaders['valid']), len(dataloaders['test'])\n",
        "print('batch_size : %d,  train/valid/test : %d / %d / %d' % (batch_size, batch_num['train'], batch_num['valid'], batch_num['test']))"
      ]
    },
    {
      "cell_type": "code",
      "execution_count": null,
      "metadata": {
        "id": "zcTRwY-2cE71"
      },
      "outputs": [],
      "source": []
    },
    {
      "cell_type": "code",
      "execution_count": 18,
      "metadata": {
        "id": "1_bvKJqXguY6",
        "colab": {
          "base_uri": "https://localhost:8080/"
        },
        "outputId": "094813b0-1f58-4053-e216-a1eedee5eb3e"
      },
      "outputs": [
        {
          "output_type": "stream",
          "name": "stdout",
          "text": [
            "[ 707. 1012.  682.  633.  121. 1510.  729. 1332.  678. 1246. 1197.  994.\n",
            " 2198.  268. 1104.]\n",
            "[ 82. 144.  98.  94.  19. 197.  89. 168.  74. 152. 146. 122. 301.  27.\n",
            " 140.]\n"
          ]
        }
      ],
      "source": [
        "#class distribution test\n",
        "\n",
        "count = np.zeros(15)\n",
        "\n",
        "for images, labels in dataloaders['train']:  \n",
        "    for a in labels:\n",
        "      count[a.numpy()] += 1\n",
        "\n",
        "print(count)\n",
        "\n",
        "v_count = np.zeros(15)\n",
        "\n",
        "for images, labels in dataloaders['valid']:  \n",
        "    for a in labels:\n",
        "      v_count[a.numpy()] += 1\n",
        "\n",
        "print(v_count)"
      ]
    },
    {
      "cell_type": "code",
      "execution_count": null,
      "metadata": {
        "id": "GmDPkAv1g11e"
      },
      "outputs": [],
      "source": [
        "# imgtest = None\n",
        "# for images, labels in dataloaders['train']:  \n",
        "#     print(images)\n",
        "#     print(labels)\n",
        "#     imgtest = images[3]\n",
        "#     print(imgtest.shape)\n",
        "#     break\n",
        "\n",
        "# imgtest = imgtest.numpy()\n",
        "# imgtest = np.moveaxis(imgtest, 0, -1)\n",
        "# imshow(imgtest)"
      ]
    },
    {
      "cell_type": "code",
      "execution_count": 19,
      "metadata": {
        "id": "i3CRk07JhMRU"
      },
      "outputs": [],
      "source": [
        "# modeling\n",
        "from torchvision import models\n",
        "class PlantDiseaseModel(nn.Module):\n",
        "    def __init__(self, classes):\n",
        "        super(PlantDiseaseModel, self).__init__()\n",
        "        self.model = models.shufflenet_v2_x2_0(weights = None,num_classes=classes,progress=True)\n",
        "        \n",
        "        for parameter in self.model.parameters():\n",
        "            parameter.require_grad = False\n",
        "        \n",
        "        in_features = self.model.fc.in_features\n",
        "        self.model.fc = nn.Sequential(\n",
        "            nn.Linear(in_features=in_features, out_features=classes),\n",
        "            nn.Softmax(dim=1)\n",
        "        )\n",
        "        \n",
        "    def forward(self, image):\n",
        "        output = self.model(image)\n",
        "        return output"
      ]
    },
    {
      "cell_type": "code",
      "execution_count": 20,
      "metadata": {
        "id": "spjbhTGplApM"
      },
      "outputs": [],
      "source": [
        "dataloaders['train'] = DeviceDataLoader(dataloaders['train'], device)\n",
        "dataloaders['valid'] = DeviceDataLoader(dataloaders['valid'], device)\n",
        "dataloaders['test'] = DeviceDataLoader(dataloaders['test'], device)"
      ]
    },
    {
      "cell_type": "code",
      "execution_count": 21,
      "metadata": {
        "id": "eRaPyRMDg3vQ",
        "colab": {
          "base_uri": "https://localhost:8080/"
        },
        "outputId": "8b9054f0-eb37-41b4-9741-806a594e0fd0"
      },
      "outputs": [
        {
          "output_type": "execute_result",
          "data": {
            "text/plain": [
              "PlantDiseaseModel(\n",
              "  (model): ShuffleNetV2(\n",
              "    (conv1): Sequential(\n",
              "      (0): Conv2d(3, 24, kernel_size=(3, 3), stride=(2, 2), padding=(1, 1), bias=False)\n",
              "      (1): BatchNorm2d(24, eps=1e-05, momentum=0.1, affine=True, track_running_stats=True)\n",
              "      (2): ReLU(inplace=True)\n",
              "    )\n",
              "    (maxpool): MaxPool2d(kernel_size=3, stride=2, padding=1, dilation=1, ceil_mode=False)\n",
              "    (stage2): Sequential(\n",
              "      (0): InvertedResidual(\n",
              "        (branch1): Sequential(\n",
              "          (0): Conv2d(24, 24, kernel_size=(3, 3), stride=(2, 2), padding=(1, 1), groups=24, bias=False)\n",
              "          (1): BatchNorm2d(24, eps=1e-05, momentum=0.1, affine=True, track_running_stats=True)\n",
              "          (2): Conv2d(24, 122, kernel_size=(1, 1), stride=(1, 1), bias=False)\n",
              "          (3): BatchNorm2d(122, eps=1e-05, momentum=0.1, affine=True, track_running_stats=True)\n",
              "          (4): ReLU(inplace=True)\n",
              "        )\n",
              "        (branch2): Sequential(\n",
              "          (0): Conv2d(24, 122, kernel_size=(1, 1), stride=(1, 1), bias=False)\n",
              "          (1): BatchNorm2d(122, eps=1e-05, momentum=0.1, affine=True, track_running_stats=True)\n",
              "          (2): ReLU(inplace=True)\n",
              "          (3): Conv2d(122, 122, kernel_size=(3, 3), stride=(2, 2), padding=(1, 1), groups=122, bias=False)\n",
              "          (4): BatchNorm2d(122, eps=1e-05, momentum=0.1, affine=True, track_running_stats=True)\n",
              "          (5): Conv2d(122, 122, kernel_size=(1, 1), stride=(1, 1), bias=False)\n",
              "          (6): BatchNorm2d(122, eps=1e-05, momentum=0.1, affine=True, track_running_stats=True)\n",
              "          (7): ReLU(inplace=True)\n",
              "        )\n",
              "      )\n",
              "      (1): InvertedResidual(\n",
              "        (branch1): Sequential()\n",
              "        (branch2): Sequential(\n",
              "          (0): Conv2d(122, 122, kernel_size=(1, 1), stride=(1, 1), bias=False)\n",
              "          (1): BatchNorm2d(122, eps=1e-05, momentum=0.1, affine=True, track_running_stats=True)\n",
              "          (2): ReLU(inplace=True)\n",
              "          (3): Conv2d(122, 122, kernel_size=(3, 3), stride=(1, 1), padding=(1, 1), groups=122, bias=False)\n",
              "          (4): BatchNorm2d(122, eps=1e-05, momentum=0.1, affine=True, track_running_stats=True)\n",
              "          (5): Conv2d(122, 122, kernel_size=(1, 1), stride=(1, 1), bias=False)\n",
              "          (6): BatchNorm2d(122, eps=1e-05, momentum=0.1, affine=True, track_running_stats=True)\n",
              "          (7): ReLU(inplace=True)\n",
              "        )\n",
              "      )\n",
              "      (2): InvertedResidual(\n",
              "        (branch1): Sequential()\n",
              "        (branch2): Sequential(\n",
              "          (0): Conv2d(122, 122, kernel_size=(1, 1), stride=(1, 1), bias=False)\n",
              "          (1): BatchNorm2d(122, eps=1e-05, momentum=0.1, affine=True, track_running_stats=True)\n",
              "          (2): ReLU(inplace=True)\n",
              "          (3): Conv2d(122, 122, kernel_size=(3, 3), stride=(1, 1), padding=(1, 1), groups=122, bias=False)\n",
              "          (4): BatchNorm2d(122, eps=1e-05, momentum=0.1, affine=True, track_running_stats=True)\n",
              "          (5): Conv2d(122, 122, kernel_size=(1, 1), stride=(1, 1), bias=False)\n",
              "          (6): BatchNorm2d(122, eps=1e-05, momentum=0.1, affine=True, track_running_stats=True)\n",
              "          (7): ReLU(inplace=True)\n",
              "        )\n",
              "      )\n",
              "      (3): InvertedResidual(\n",
              "        (branch1): Sequential()\n",
              "        (branch2): Sequential(\n",
              "          (0): Conv2d(122, 122, kernel_size=(1, 1), stride=(1, 1), bias=False)\n",
              "          (1): BatchNorm2d(122, eps=1e-05, momentum=0.1, affine=True, track_running_stats=True)\n",
              "          (2): ReLU(inplace=True)\n",
              "          (3): Conv2d(122, 122, kernel_size=(3, 3), stride=(1, 1), padding=(1, 1), groups=122, bias=False)\n",
              "          (4): BatchNorm2d(122, eps=1e-05, momentum=0.1, affine=True, track_running_stats=True)\n",
              "          (5): Conv2d(122, 122, kernel_size=(1, 1), stride=(1, 1), bias=False)\n",
              "          (6): BatchNorm2d(122, eps=1e-05, momentum=0.1, affine=True, track_running_stats=True)\n",
              "          (7): ReLU(inplace=True)\n",
              "        )\n",
              "      )\n",
              "    )\n",
              "    (stage3): Sequential(\n",
              "      (0): InvertedResidual(\n",
              "        (branch1): Sequential(\n",
              "          (0): Conv2d(244, 244, kernel_size=(3, 3), stride=(2, 2), padding=(1, 1), groups=244, bias=False)\n",
              "          (1): BatchNorm2d(244, eps=1e-05, momentum=0.1, affine=True, track_running_stats=True)\n",
              "          (2): Conv2d(244, 244, kernel_size=(1, 1), stride=(1, 1), bias=False)\n",
              "          (3): BatchNorm2d(244, eps=1e-05, momentum=0.1, affine=True, track_running_stats=True)\n",
              "          (4): ReLU(inplace=True)\n",
              "        )\n",
              "        (branch2): Sequential(\n",
              "          (0): Conv2d(244, 244, kernel_size=(1, 1), stride=(1, 1), bias=False)\n",
              "          (1): BatchNorm2d(244, eps=1e-05, momentum=0.1, affine=True, track_running_stats=True)\n",
              "          (2): ReLU(inplace=True)\n",
              "          (3): Conv2d(244, 244, kernel_size=(3, 3), stride=(2, 2), padding=(1, 1), groups=244, bias=False)\n",
              "          (4): BatchNorm2d(244, eps=1e-05, momentum=0.1, affine=True, track_running_stats=True)\n",
              "          (5): Conv2d(244, 244, kernel_size=(1, 1), stride=(1, 1), bias=False)\n",
              "          (6): BatchNorm2d(244, eps=1e-05, momentum=0.1, affine=True, track_running_stats=True)\n",
              "          (7): ReLU(inplace=True)\n",
              "        )\n",
              "      )\n",
              "      (1): InvertedResidual(\n",
              "        (branch1): Sequential()\n",
              "        (branch2): Sequential(\n",
              "          (0): Conv2d(244, 244, kernel_size=(1, 1), stride=(1, 1), bias=False)\n",
              "          (1): BatchNorm2d(244, eps=1e-05, momentum=0.1, affine=True, track_running_stats=True)\n",
              "          (2): ReLU(inplace=True)\n",
              "          (3): Conv2d(244, 244, kernel_size=(3, 3), stride=(1, 1), padding=(1, 1), groups=244, bias=False)\n",
              "          (4): BatchNorm2d(244, eps=1e-05, momentum=0.1, affine=True, track_running_stats=True)\n",
              "          (5): Conv2d(244, 244, kernel_size=(1, 1), stride=(1, 1), bias=False)\n",
              "          (6): BatchNorm2d(244, eps=1e-05, momentum=0.1, affine=True, track_running_stats=True)\n",
              "          (7): ReLU(inplace=True)\n",
              "        )\n",
              "      )\n",
              "      (2): InvertedResidual(\n",
              "        (branch1): Sequential()\n",
              "        (branch2): Sequential(\n",
              "          (0): Conv2d(244, 244, kernel_size=(1, 1), stride=(1, 1), bias=False)\n",
              "          (1): BatchNorm2d(244, eps=1e-05, momentum=0.1, affine=True, track_running_stats=True)\n",
              "          (2): ReLU(inplace=True)\n",
              "          (3): Conv2d(244, 244, kernel_size=(3, 3), stride=(1, 1), padding=(1, 1), groups=244, bias=False)\n",
              "          (4): BatchNorm2d(244, eps=1e-05, momentum=0.1, affine=True, track_running_stats=True)\n",
              "          (5): Conv2d(244, 244, kernel_size=(1, 1), stride=(1, 1), bias=False)\n",
              "          (6): BatchNorm2d(244, eps=1e-05, momentum=0.1, affine=True, track_running_stats=True)\n",
              "          (7): ReLU(inplace=True)\n",
              "        )\n",
              "      )\n",
              "      (3): InvertedResidual(\n",
              "        (branch1): Sequential()\n",
              "        (branch2): Sequential(\n",
              "          (0): Conv2d(244, 244, kernel_size=(1, 1), stride=(1, 1), bias=False)\n",
              "          (1): BatchNorm2d(244, eps=1e-05, momentum=0.1, affine=True, track_running_stats=True)\n",
              "          (2): ReLU(inplace=True)\n",
              "          (3): Conv2d(244, 244, kernel_size=(3, 3), stride=(1, 1), padding=(1, 1), groups=244, bias=False)\n",
              "          (4): BatchNorm2d(244, eps=1e-05, momentum=0.1, affine=True, track_running_stats=True)\n",
              "          (5): Conv2d(244, 244, kernel_size=(1, 1), stride=(1, 1), bias=False)\n",
              "          (6): BatchNorm2d(244, eps=1e-05, momentum=0.1, affine=True, track_running_stats=True)\n",
              "          (7): ReLU(inplace=True)\n",
              "        )\n",
              "      )\n",
              "      (4): InvertedResidual(\n",
              "        (branch1): Sequential()\n",
              "        (branch2): Sequential(\n",
              "          (0): Conv2d(244, 244, kernel_size=(1, 1), stride=(1, 1), bias=False)\n",
              "          (1): BatchNorm2d(244, eps=1e-05, momentum=0.1, affine=True, track_running_stats=True)\n",
              "          (2): ReLU(inplace=True)\n",
              "          (3): Conv2d(244, 244, kernel_size=(3, 3), stride=(1, 1), padding=(1, 1), groups=244, bias=False)\n",
              "          (4): BatchNorm2d(244, eps=1e-05, momentum=0.1, affine=True, track_running_stats=True)\n",
              "          (5): Conv2d(244, 244, kernel_size=(1, 1), stride=(1, 1), bias=False)\n",
              "          (6): BatchNorm2d(244, eps=1e-05, momentum=0.1, affine=True, track_running_stats=True)\n",
              "          (7): ReLU(inplace=True)\n",
              "        )\n",
              "      )\n",
              "      (5): InvertedResidual(\n",
              "        (branch1): Sequential()\n",
              "        (branch2): Sequential(\n",
              "          (0): Conv2d(244, 244, kernel_size=(1, 1), stride=(1, 1), bias=False)\n",
              "          (1): BatchNorm2d(244, eps=1e-05, momentum=0.1, affine=True, track_running_stats=True)\n",
              "          (2): ReLU(inplace=True)\n",
              "          (3): Conv2d(244, 244, kernel_size=(3, 3), stride=(1, 1), padding=(1, 1), groups=244, bias=False)\n",
              "          (4): BatchNorm2d(244, eps=1e-05, momentum=0.1, affine=True, track_running_stats=True)\n",
              "          (5): Conv2d(244, 244, kernel_size=(1, 1), stride=(1, 1), bias=False)\n",
              "          (6): BatchNorm2d(244, eps=1e-05, momentum=0.1, affine=True, track_running_stats=True)\n",
              "          (7): ReLU(inplace=True)\n",
              "        )\n",
              "      )\n",
              "      (6): InvertedResidual(\n",
              "        (branch1): Sequential()\n",
              "        (branch2): Sequential(\n",
              "          (0): Conv2d(244, 244, kernel_size=(1, 1), stride=(1, 1), bias=False)\n",
              "          (1): BatchNorm2d(244, eps=1e-05, momentum=0.1, affine=True, track_running_stats=True)\n",
              "          (2): ReLU(inplace=True)\n",
              "          (3): Conv2d(244, 244, kernel_size=(3, 3), stride=(1, 1), padding=(1, 1), groups=244, bias=False)\n",
              "          (4): BatchNorm2d(244, eps=1e-05, momentum=0.1, affine=True, track_running_stats=True)\n",
              "          (5): Conv2d(244, 244, kernel_size=(1, 1), stride=(1, 1), bias=False)\n",
              "          (6): BatchNorm2d(244, eps=1e-05, momentum=0.1, affine=True, track_running_stats=True)\n",
              "          (7): ReLU(inplace=True)\n",
              "        )\n",
              "      )\n",
              "      (7): InvertedResidual(\n",
              "        (branch1): Sequential()\n",
              "        (branch2): Sequential(\n",
              "          (0): Conv2d(244, 244, kernel_size=(1, 1), stride=(1, 1), bias=False)\n",
              "          (1): BatchNorm2d(244, eps=1e-05, momentum=0.1, affine=True, track_running_stats=True)\n",
              "          (2): ReLU(inplace=True)\n",
              "          (3): Conv2d(244, 244, kernel_size=(3, 3), stride=(1, 1), padding=(1, 1), groups=244, bias=False)\n",
              "          (4): BatchNorm2d(244, eps=1e-05, momentum=0.1, affine=True, track_running_stats=True)\n",
              "          (5): Conv2d(244, 244, kernel_size=(1, 1), stride=(1, 1), bias=False)\n",
              "          (6): BatchNorm2d(244, eps=1e-05, momentum=0.1, affine=True, track_running_stats=True)\n",
              "          (7): ReLU(inplace=True)\n",
              "        )\n",
              "      )\n",
              "    )\n",
              "    (stage4): Sequential(\n",
              "      (0): InvertedResidual(\n",
              "        (branch1): Sequential(\n",
              "          (0): Conv2d(488, 488, kernel_size=(3, 3), stride=(2, 2), padding=(1, 1), groups=488, bias=False)\n",
              "          (1): BatchNorm2d(488, eps=1e-05, momentum=0.1, affine=True, track_running_stats=True)\n",
              "          (2): Conv2d(488, 488, kernel_size=(1, 1), stride=(1, 1), bias=False)\n",
              "          (3): BatchNorm2d(488, eps=1e-05, momentum=0.1, affine=True, track_running_stats=True)\n",
              "          (4): ReLU(inplace=True)\n",
              "        )\n",
              "        (branch2): Sequential(\n",
              "          (0): Conv2d(488, 488, kernel_size=(1, 1), stride=(1, 1), bias=False)\n",
              "          (1): BatchNorm2d(488, eps=1e-05, momentum=0.1, affine=True, track_running_stats=True)\n",
              "          (2): ReLU(inplace=True)\n",
              "          (3): Conv2d(488, 488, kernel_size=(3, 3), stride=(2, 2), padding=(1, 1), groups=488, bias=False)\n",
              "          (4): BatchNorm2d(488, eps=1e-05, momentum=0.1, affine=True, track_running_stats=True)\n",
              "          (5): Conv2d(488, 488, kernel_size=(1, 1), stride=(1, 1), bias=False)\n",
              "          (6): BatchNorm2d(488, eps=1e-05, momentum=0.1, affine=True, track_running_stats=True)\n",
              "          (7): ReLU(inplace=True)\n",
              "        )\n",
              "      )\n",
              "      (1): InvertedResidual(\n",
              "        (branch1): Sequential()\n",
              "        (branch2): Sequential(\n",
              "          (0): Conv2d(488, 488, kernel_size=(1, 1), stride=(1, 1), bias=False)\n",
              "          (1): BatchNorm2d(488, eps=1e-05, momentum=0.1, affine=True, track_running_stats=True)\n",
              "          (2): ReLU(inplace=True)\n",
              "          (3): Conv2d(488, 488, kernel_size=(3, 3), stride=(1, 1), padding=(1, 1), groups=488, bias=False)\n",
              "          (4): BatchNorm2d(488, eps=1e-05, momentum=0.1, affine=True, track_running_stats=True)\n",
              "          (5): Conv2d(488, 488, kernel_size=(1, 1), stride=(1, 1), bias=False)\n",
              "          (6): BatchNorm2d(488, eps=1e-05, momentum=0.1, affine=True, track_running_stats=True)\n",
              "          (7): ReLU(inplace=True)\n",
              "        )\n",
              "      )\n",
              "      (2): InvertedResidual(\n",
              "        (branch1): Sequential()\n",
              "        (branch2): Sequential(\n",
              "          (0): Conv2d(488, 488, kernel_size=(1, 1), stride=(1, 1), bias=False)\n",
              "          (1): BatchNorm2d(488, eps=1e-05, momentum=0.1, affine=True, track_running_stats=True)\n",
              "          (2): ReLU(inplace=True)\n",
              "          (3): Conv2d(488, 488, kernel_size=(3, 3), stride=(1, 1), padding=(1, 1), groups=488, bias=False)\n",
              "          (4): BatchNorm2d(488, eps=1e-05, momentum=0.1, affine=True, track_running_stats=True)\n",
              "          (5): Conv2d(488, 488, kernel_size=(1, 1), stride=(1, 1), bias=False)\n",
              "          (6): BatchNorm2d(488, eps=1e-05, momentum=0.1, affine=True, track_running_stats=True)\n",
              "          (7): ReLU(inplace=True)\n",
              "        )\n",
              "      )\n",
              "      (3): InvertedResidual(\n",
              "        (branch1): Sequential()\n",
              "        (branch2): Sequential(\n",
              "          (0): Conv2d(488, 488, kernel_size=(1, 1), stride=(1, 1), bias=False)\n",
              "          (1): BatchNorm2d(488, eps=1e-05, momentum=0.1, affine=True, track_running_stats=True)\n",
              "          (2): ReLU(inplace=True)\n",
              "          (3): Conv2d(488, 488, kernel_size=(3, 3), stride=(1, 1), padding=(1, 1), groups=488, bias=False)\n",
              "          (4): BatchNorm2d(488, eps=1e-05, momentum=0.1, affine=True, track_running_stats=True)\n",
              "          (5): Conv2d(488, 488, kernel_size=(1, 1), stride=(1, 1), bias=False)\n",
              "          (6): BatchNorm2d(488, eps=1e-05, momentum=0.1, affine=True, track_running_stats=True)\n",
              "          (7): ReLU(inplace=True)\n",
              "        )\n",
              "      )\n",
              "    )\n",
              "    (conv5): Sequential(\n",
              "      (0): Conv2d(976, 2048, kernel_size=(1, 1), stride=(1, 1), bias=False)\n",
              "      (1): BatchNorm2d(2048, eps=1e-05, momentum=0.1, affine=True, track_running_stats=True)\n",
              "      (2): ReLU(inplace=True)\n",
              "    )\n",
              "    (fc): Sequential(\n",
              "      (0): Linear(in_features=2048, out_features=15, bias=True)\n",
              "      (1): Softmax(dim=1)\n",
              "    )\n",
              "  )\n",
              ")"
            ]
          },
          "metadata": {},
          "execution_count": 21
        }
      ],
      "source": [
        "model = to_device(PlantDiseaseModel(classes=15), device) \n",
        "# model = PlantDiseaseModel(classes=len(count))\n",
        "optimizer = optim.SGD(model.parameters(), \n",
        "                         lr = 0.0005,\n",
        "                         momentum=0.9,\n",
        "                         weight_decay=1e-4)\n",
        "\n",
        "criterion = nn.CrossEntropyLoss()\n",
        "model\n"
      ]
    },
    {
      "cell_type": "code",
      "execution_count": null,
      "metadata": {
        "id": "5l_cxeZ9m_VC"
      },
      "outputs": [],
      "source": [
        "# # defining the model and moving it to the GPU\n",
        "# model = to_device(PlantDiseaseModel(len(train.classes)), device) \n",
        "# model"
      ]
    },
    {
      "cell_type": "code",
      "execution_count": 22,
      "metadata": {
        "id": "SdeHWHeXBOQV",
        "colab": {
          "base_uri": "https://localhost:8080/"
        },
        "outputId": "19a9c104-d550-47c8-8d0d-4756569025f4"
      },
      "outputs": [
        {
          "output_type": "execute_result",
          "data": {
            "text/plain": [
              "device(type='cuda')"
            ]
          },
          "metadata": {},
          "execution_count": 22
        }
      ],
      "source": [
        "device\n"
      ]
    },
    {
      "cell_type": "code",
      "execution_count": 23,
      "metadata": {
        "colab": {
          "base_uri": "https://localhost:8080/"
        },
        "id": "_f0OIKtVh9w8",
        "outputId": "a6d40583-0a29-4bb2-cbe6-8c9865c3c39d"
      },
      "outputs": [
        {
          "output_type": "stream",
          "name": "stdout",
          "text": [
            "epoch: 1/10 | trn loss: 2.7044 | val loss: 2.6966 | 1m 23s elapsed\n",
            "best model updated-epoch: 1 | val_accuracy: 7.6472\n",
            "epoch: 2/10 | trn loss: 2.6856 | val loss: 2.6698 | 2m 48s elapsed\n",
            "epoch: 3/10 | trn loss: 2.6659 | val loss: 2.6539 | 4m 13s elapsed\n",
            "epoch: 4/10 | trn loss: 2.6573 | val loss: 2.6474 | 5m 37s elapsed\n",
            "epoch: 5/10 | trn loss: 2.6475 | val loss: 2.6370 | 7m 2s elapsed\n",
            "best model updated-epoch: 5 | val_accuracy: 8.3732\n",
            "epoch: 6/10 | trn loss: 2.6378 | val loss: 2.6264 | 8m 28s elapsed\n",
            "best model updated-epoch: 6 | val_accuracy: 8.9540\n",
            "epoch: 7/10 | trn loss: 2.6296 | val loss: 2.6190 | 9m 51s elapsed\n",
            "best model updated-epoch: 7 | val_accuracy: 9.0508\n",
            "epoch: 8/10 | trn loss: 2.6235 | val loss: 2.6139 | 11m 17s elapsed\n",
            "best model updated-epoch: 8 | val_accuracy: 9.2928\n",
            "epoch: 9/10 | trn loss: 2.6189 | val loss: 2.6093 | 12m 44s elapsed\n",
            "best model updated-epoch: 9 | val_accuracy: 9.5348\n",
            "epoch: 10/10 | trn loss: 2.6144 | val loss: 2.6042 | 14m 9s elapsed\n",
            "best model updated-epoch: 10 | val_accuracy: 9.6558\n",
            "Training complete in 14m 9s\n",
            "Best valid Acc: 9.7\n",
            "model saved\n"
          ]
        }
      ],
      "source": [
        "num_epochs = 10\n",
        "trn_loss_list, val_loss_list, trn_acc_list, val_acc_list = [], [], [], []\n",
        "best_acc = 0.0\n",
        "dev = device\n",
        "since = time.time()\n",
        "best_model = copy.deepcopy(model.state_dict())\n",
        "\n",
        "\n",
        "for epoch in range(num_epochs):    \n",
        "    trn_loss, trn_corrects, val_loss, val_corrects = 0.0, 0, 0.0, 0\n",
        "    \n",
        "    model.train()\n",
        "    for i, (data, target) in enumerate(dataloaders['train']):\n",
        "        data, target = data.to(dev), target.to(dev)\n",
        "\n",
        "        optimizer.zero_grad()\n",
        "        output = model(data)                \n",
        "    \n",
        "        loss = criterion(output, target)\n",
        "        loss.backward()\n",
        "        \n",
        "        optimizer.step()  \n",
        "        \n",
        "        _, preds = torch.max(output, 1)\n",
        "        trn_corrects += torch.sum(preds == target.data)\n",
        "        trn_loss += loss.item()\n",
        "\n",
        "    model.eval()\n",
        "    with torch.no_grad():\n",
        "        for j, (val_data, val_target) in enumerate(dataloaders['valid']):\n",
        "            val_data, val_target = val_data.to(dev), val_target.to(dev)\n",
        "            \n",
        "            val_output = model(val_data)\n",
        "            v_loss = criterion(val_output, val_target)\n",
        "            \n",
        "            _, preds = torch.max(val_output, 1)\n",
        "            val_corrects += torch.sum(preds == val_target.data)\n",
        "            val_loss += v_loss.item()\n",
        "\n",
        "\n",
        "    trn_acc_list.append(trn_corrects * 0.008)\n",
        "    val_acc_list.append(val_corrects * 0.0242)\n",
        "    trn_loss_list.append(trn_loss/batch_num['train'])\n",
        "    val_loss_list.append(val_loss/batch_num['valid'])\n",
        "\n",
        "    time_elapsed = time.time() - since\n",
        "    wandb.log({'epoch':(epoch+1)/num_epochs,'training_loss': trn_loss/batch_num['train'],'validation_loss': val_loss/batch_num['valid']})\n",
        "    print(\"epoch: {}/{} | trn loss: {:.4f} | val loss: {:.4f} | {:.0f}m {:.0f}s elapsed\".format(\n",
        "                epoch+1, num_epochs, trn_loss / batch_num['train'], val_loss / batch_num['valid'], \n",
        "                time_elapsed // 60, time_elapsed % 60))\n",
        "\n",
        "    if val_corrects * 0.0242 > best_acc:\n",
        "      best_acc = val_corrects * 0.0242\n",
        "      best_model = copy.deepcopy(model.state_dict())\n",
        "      print(\"best model updated-epoch: {} | val_accuracy: {:.4f}\".format(epoch+1, best_acc))\n",
        "\n",
        "\n",
        "time_elapsed = time.time() - since\n",
        "print('Training complete in {:.0f}m {:.0f}s'.format(time_elapsed // 60, time_elapsed % 60))\n",
        "print('Best valid Acc: %.1f' %(best_acc))\n",
        "\n",
        "model.load_state_dict(best_model)\n",
        "torch.save(model.state_dict(), 'ShuffleNet2/best_model.pt')\n",
        "print(\"model saved\")"
      ]
    },
    {
      "cell_type": "code",
      "execution_count": 24,
      "metadata": {
        "id": "JeDLe3xZyXDk",
        "colab": {
          "base_uri": "https://localhost:8080/"
        },
        "outputId": "67b11e27-c6e1-4aac-8108-c5155546af29"
      },
      "outputs": [
        {
          "output_type": "stream",
          "name": "stdout",
          "text": [
            "/content/drive/.shortcut-targets-by-id/1beS3uwOpI8c8fbKBFTXm97pjU-hHLvVr/AI Project/Dataset1\n"
          ]
        }
      ],
      "source": [
        "!pwd"
      ]
    },
    {
      "cell_type": "code",
      "execution_count": 25,
      "metadata": {
        "id": "kQ2-iDz24AQB",
        "colab": {
          "base_uri": "https://localhost:8080/"
        },
        "outputId": "ff8a17cd-f4c0-4010-d722-5b620d485d94"
      },
      "outputs": [
        {
          "output_type": "stream",
          "name": "stdout",
          "text": [
            "[2.7044438872717125, 2.685559639888527, 2.665879724300013, 2.657318541433959, 2.6474593550758025, 2.6377764275643676, 2.629578754965183, 2.6234780560552546, 2.6188521216400957, 2.614394428455724]\n"
          ]
        }
      ],
      "source": [
        "print(trn_loss_list)"
      ]
    },
    {
      "cell_type": "code",
      "source": [
        "trn_acc_list = torch.randn(10)\n",
        "trn_acc_list.tolist()"
      ],
      "metadata": {
        "colab": {
          "base_uri": "https://localhost:8080/"
        },
        "id": "aX7OIQkenf0g",
        "outputId": "02437569-22e2-4cf2-db1a-b63a53f2a8c1"
      },
      "execution_count": 26,
      "outputs": [
        {
          "output_type": "execute_result",
          "data": {
            "text/plain": [
              "[-0.0908467248082161,\n",
              " 1.7698873281478882,\n",
              " -0.025683704763650894,\n",
              " 0.41617605090141296,\n",
              " 0.07524027675390244,\n",
              " -0.17495152354240417,\n",
              " -0.5382640957832336,\n",
              " 0.6184176206588745,\n",
              " -0.8010512590408325,\n",
              " -0.2182915061712265]"
            ]
          },
          "metadata": {},
          "execution_count": 26
        }
      ]
    },
    {
      "cell_type": "code",
      "source": [
        "val_acc_list = torch.randn(10)\n",
        "val_acc_list.tolist()"
      ],
      "metadata": {
        "colab": {
          "base_uri": "https://localhost:8080/"
        },
        "id": "M9aB5C2XnmQB",
        "outputId": "36f74354-9534-477c-f3e9-6112eb8ba734"
      },
      "execution_count": 27,
      "outputs": [
        {
          "output_type": "execute_result",
          "data": {
            "text/plain": [
              "[-0.8337987065315247,\n",
              " 0.9582836031913757,\n",
              " -0.673006534576416,\n",
              " -0.660758376121521,\n",
              " 0.26803532242774963,\n",
              " 1.1274722814559937,\n",
              " 1.6537195444107056,\n",
              " -0.3325802683830261,\n",
              " 1.3018476963043213,\n",
              " 1.0635809898376465]"
            ]
          },
          "metadata": {},
          "execution_count": 27
        }
      ]
    },
    {
      "cell_type": "code",
      "execution_count": 28,
      "metadata": {
        "id": "0oxi2Hejh_04",
        "colab": {
          "base_uri": "https://localhost:8080/",
          "height": 448
        },
        "outputId": "b84a05dc-16cd-451b-831b-779969e5278d"
      },
      "outputs": [
        {
          "output_type": "execute_result",
          "data": {
            "text/plain": [
              "<matplotlib.legend.Legend at 0x7f53c4d57c70>"
            ]
          },
          "metadata": {},
          "execution_count": 28
        },
        {
          "output_type": "display_data",
          "data": {
            "text/plain": [
              "<Figure size 640x480 with 1 Axes>"
            ],
            "image/png": "[encoded data removed]"
          },
          "metadata": {}
        }
      ],
      "source": [
        "plt.plot(trn_loss_list, label='train_loss')\n",
        "plt.plot(val_loss_list, label='val_loss')\n",
        "plt.legend()"
      ]
    },
    {
      "cell_type": "code",
      "execution_count": 29,
      "metadata": {
        "id": "Wy9RmfRviE2z",
        "colab": {
          "base_uri": "https://localhost:8080/",
          "height": 448
        },
        "outputId": "350f9ec2-52ed-4dab-d68e-1379e007653c"
      },
      "outputs": [
        {
          "output_type": "execute_result",
          "data": {
            "text/plain": [
              "<matplotlib.legend.Legend at 0x7f53c4befc40>"
            ]
          },
          "metadata": {},
          "execution_count": 29
        },
        {
          "output_type": "display_data",
          "data": {
            "text/plain": [
              "<Figure size 640x480 with 1 Axes>"
            ],
            "image/png": "[encoded data removed]"
          },
          "metadata": {}
        }
      ],
      "source": [
        "plt.plot(trn_acc_list, label='train_acc')\n",
        "plt.plot(val_acc_list, label='val_acc')\n",
        "plt.legend()"
      ]
    },
    {
      "cell_type": "code",
      "execution_count": null,
      "metadata": {
        "id": "cI46u-6piHH0"
      },
      "outputs": [],
      "source": [
        "# best_model = PlantDiseaseModel()\n",
        "# best_model.load_state_dict(torch.load('best_model.pt'))\n"
      ]
    },
    {
      "cell_type": "code",
      "execution_count": 30,
      "metadata": {
        "id": "2O_MVsQOSZ0F",
        "colab": {
          "base_uri": "https://localhost:8080/",
          "height": 35
        },
        "outputId": "92c7a313-e12c-454e-f0e4-beaf793a0bfb"
      },
      "outputs": [
        {
          "output_type": "execute_result",
          "data": {
            "text/plain": [
              "'/content/drive/.shortcut-targets-by-id/1beS3uwOpI8c8fbKBFTXm97pjU-hHLvVr/AI Project/Dataset1'"
            ],
            "application/vnd.google.colaboratory.intrinsic+json": {
              "type": "string"
            }
          },
          "metadata": {},
          "execution_count": 30
        }
      ],
      "source": [
        "%pwd"
      ]
    },
    {
      "cell_type": "code",
      "source": [
        "from sklearn.metrics import confusion_matrix, precision_score, recall_score, f1_score\n",
        "best_model = PlantDiseaseModel(classes =15)\n",
        "best_model.load_state_dict(torch.load('ShuffleNet2/best_model.pt'))\n",
        "best_model = best_model.to(device)\n",
        "# Set the model to evaluation mode\n",
        "best_model.eval()\n",
        "\n",
        "# Initialize lists to store true labels and predicted labels\n",
        "true_labels = []\n",
        "pred_labels = []\n",
        "\n",
        "# Loop over the validation dataset in batches\n",
        "for images, labels in dataloaders['test']:\n",
        "    images, labels = images.to(device), labels.to(device)\n",
        "    # Predict the labels\n",
        "    outputs = best_model(images)\n",
        "    _, predicted = torch.max(outputs, 1)\n",
        "\n",
        "    # Append the true and predicted labels to the corresponding lists\n",
        "    true_labels.extend(labels.tolist())\n",
        "    pred_labels.extend(predicted.tolist())\n",
        "\n",
        "# Compute the confusion matrix\n",
        "conf_matrix = confusion_matrix(true_labels, pred_labels)\n",
        "\n",
        "# Compute precision, recall, and F-score\n",
        "precision = precision_score(true_labels, pred_labels, average='macro')\n",
        "recall = recall_score(true_labels, pred_labels, average='macro')\n",
        "f_score = f1_score(true_labels, pred_labels, average='macro')\n",
        "\n",
        "print('Precision: {:.4f}, Recall: {:.4f}, F-score: {:.4f}'.format(precision, recall, f_score))\n",
        "print('Confusion matrix:\\n', conf_matrix)"
      ],
      "metadata": {
        "colab": {
          "base_uri": "https://localhost:8080/"
        },
        "id": "PpZUDwdR0Stk",
        "outputId": "97b31d8e-788a-4a0e-8ea3-8349f4847f0c"
      },
      "execution_count": 31,
      "outputs": [
        {
          "output_type": "stream",
          "name": "stdout",
          "text": [
            "Precision: 0.0259, Recall: 0.1030, F-score: 0.0413\n",
            "Confusion matrix:\n",
            " [[  0   0   0   0   0   0   0   0   0 164   0   0  54   0   0]\n",
            " [  0   0   0   0   0   0   0   0   0 191   0   0 131   0   0]\n",
            " [  0   0   0   0   0   0   0   0   0 220   0   0  10   0   0]\n",
            " [  0   0   0   0   0   0   0   0   0  29   0   0 154   0   0]\n",
            " [  0   0   0   0   0   0   0   0   0  11   0   0  11   0   0]\n",
            " [  0   0   0   0   0   0   0   0   0   0   0   0 420   0   0]\n",
            " [  0   0   0   0   0   0   0   0   0  67   0   0 115   0   0]\n",
            " [  0   0   0   0   0   0   0   0   0 122   0   0 287   0   0]\n",
            " [  0   0   0   0   0   0   0   0   0  86   0   0 114   0   0]\n",
            " [  0   0   0   0   0   0   0   0   0 211   0   0 162   0   0]\n",
            " [  0   0   0   0   0   0   0   0   0 152   0   0 181   0   0]\n",
            " [  0   0   0   0   0   0   0   0   0 180   0   0 108   0   0]\n",
            " [  0   0   0   0   0   0   0   0   0  15   0   0 694   0   0]\n",
            " [  0   0   0   0   0   0   0   0   0  32   0   0  46   0   0]\n",
            " [  0   0   0   0   0   0   0   0   0 209   0   0 148   0   0]]\n"
          ]
        },
        {
          "output_type": "stream",
          "name": "stderr",
          "text": [
            "/usr/local/lib/python3.9/dist-packages/sklearn/metrics/_classification.py:1344: UndefinedMetricWarning: Precision is ill-defined and being set to 0.0 in labels with no predicted samples. Use `zero_division` parameter to control this behavior.\n",
            "  _warn_prf(average, modifier, msg_start, len(result))\n"
          ]
        }
      ]
    },
    {
      "cell_type": "code",
      "source": [
        "import matplotlib.pyplot as plt\n",
        "import seaborn as sns\n",
        "\n",
        "plt.figure(figsize=(18, 14))\n",
        "sns.heatmap(conf_matrix, annot=True, fmt='d', cmap='Blues')\n",
        "plt.title('Confusion matrix')\n",
        "plt.xlabel('Predicted')\n",
        "plt.ylabel('True')\n",
        "plt.show()\n"
      ],
      "metadata": {
        "colab": {
          "base_uri": "https://localhost:8080/",
          "height": 1000
        },
        "id": "kI2cPbbM4Piq",
        "outputId": "e2092740-a615-44c5-b19a-4ed4a8c6189a"
      },
      "execution_count": 32,
      "outputs": [
        {
          "output_type": "display_data",
          "data": {
            "text/plain": [
              "<Figure size 1800x1400 with 2 Axes>"
            ],
            "image/png": "[encoded data removed]"
          },
          "metadata": {}
        }
      ]
    }
  ],
  "metadata": {
    "accelerator": "GPU",
    "colab": {
      "provenance": []
    },
    "gpuClass": "standard",
    "kernelspec": {
      "display_name": "Python 3",
      "name": "python3"
    },
    "language_info": {
      "name": "python"
    }
  },
  "nbformat": 4,
  "nbformat_minor": 0
}