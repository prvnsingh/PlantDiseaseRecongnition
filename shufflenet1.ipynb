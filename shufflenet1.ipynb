{
  "nbformat": 4,
  "nbformat_minor": 0,
  "metadata": {
    "colab": {
      "provenance": [],
      "authorship_tag": "ABX9TyNsbm2JirzpywpvO+UTIueA",
      "include_colab_link": true
    },
    "kernelspec": {
      "name": "python3",
      "display_name": "Python 3"
    },
    "language_info": {
      "name": "python"
    },
    "accelerator": "GPU",
    "gpuClass": "standard"
  },
  "cells": [
    {
      "cell_type": "markdown",
      "metadata": {
        "id": "view-in-github",
        "colab_type": "text"
      },
      "source": [
        "<a href=\"https://colab.research.google.com/github/prvnsingh/PlantDiseaseRecongnition/blob/main/shufflenet1.ipynb\" target=\"_parent\"><img src=\"https://colab.research.google.com/assets/colab-badge.svg\" alt=\"Open In Colab\"/></a>"
      ]
    },
    {
      "cell_type": "markdown",
      "source": [
        "This dataset contains three labels: Healthy, Powdery, Rust referring to plant conditions. There is a total of 1530 images divided into train, test, and validation sets."
      ],
      "metadata": {
        "id": "m31iHwFCpSsF"
      }
    },
    {
      "cell_type": "code",
      "source": [
        "from google.colab import drive\n",
        "drive.mount('/content/drive')"
      ],
      "metadata": {
        "colab": {
          "base_uri": "https://localhost:8080/"
        },
        "id": "ZR2lninvD5dM",
        "outputId": "aa8be420-3a73-4a80-a8e7-9a5b7bfba7bd"
      },
      "execution_count": 1,
      "outputs": [
        {
          "output_type": "stream",
          "name": "stdout",
          "text": [
            "Mounted at /content/drive\n"
          ]
        }
      ]
    },
    {
      "cell_type": "code",
      "execution_count": 2,
      "metadata": {
        "id": "YA9vye5lo8CS"
      },
      "outputs": [],
      "source": [
        "#import requirements\n",
        "!pip install -q addict"
      ]
    },
    {
      "cell_type": "code",
      "source": [
        "import torch\n",
        "from torch import nn\n",
        "from torch.utils.data import Dataset, DataLoader\n",
        "from torch.optim import AdamW\n",
        "from torch.optim.lr_scheduler import ReduceLROnPlateau\n",
        "from torchvision import models\n",
        "from PIL import Image\n",
        "import albumentations as A\n",
        "from albumentations.pytorch.transforms import ToTensorV2\n",
        "import numpy as np\n",
        "import os\n",
        "import random\n",
        "from addict import Dict\n",
        "import seaborn as sns\n",
        "import matplotlib.pyplot as plt\n",
        "from tqdm import tqdm\n",
        "import logging"
      ],
      "metadata": {
        "id": "XUHZRz55piny"
      },
      "execution_count": 3,
      "outputs": []
    },
    {
      "cell_type": "code",
      "source": [
        "# Functions\n",
        "def seed_everything(seed:int=42) -> None:\n",
        "    random.seed(seed)\n",
        "    os.environ['PYTHONASSEED'] = str(seed)\n",
        "    np.random.seed(seed)\n",
        "    torch.manual_seed(seed)\n",
        "    torch.cuda.manual_seed(seed)\n",
        "    torch.backends.cudnn.deterministic = True\n",
        "    torch.backends.cudnn.benchmark = True\n",
        "\n",
        "\n",
        "def get_optimizer(model:torch.nn.Module, name:str=\"SGD\", parameters:dict={}) -> torch.optim.Optimizer:\n",
        "    optimizers = {\n",
        "        \"SGD\": torch.optim.SGD,\n",
        "        \"AdamW\": torch.optim.AdamW,\n",
        "        \"Adam\": torch.optim.Adam,\n",
        "        \"RMSprop\": torch.optim.RMSprop,\n",
        "    }\n",
        "    \n",
        "    instance = optimizers.get(name, \"SGD\")     \n",
        "    optimizer = instance(model.parameters(), **parameters)\n",
        "    \n",
        "    return optimizer\n",
        "\n",
        "\n",
        "def get_scheduler(optimizer:torch.optim.Optimizer, name:str, parameters:dict):\n",
        "    schedulers = {\n",
        "        \"ReduceLROnPlateau\": torch.optim.lr_scheduler.ReduceLROnPlateau,\n",
        "        \"LambdaLR\": torch.optim.lr_scheduler.LambdaLR,\n",
        "        \"StepLR\": torch.optim.lr_scheduler.StepLR,\n",
        "        \"ExponentialLR\": torch.optim.lr_scheduler.ExponentialLR,\n",
        "        \"MultiplicativeLR\": torch.optim.lr_scheduler.MultiplicativeLR,\n",
        "        \"MultiStepLR\": torch.optim.lr_scheduler.MultiStepLR,\n",
        "    }\n",
        "    \n",
        "    instance = schedulers[name]     \n",
        "    scheduler = instance(optimizer, **parameters)\n",
        "    \n",
        "    return scheduler\n",
        "\n",
        "\n",
        "\n",
        "def accuracy_score(predictions:torch.Tensor, targets:torch.Tensor) -> torch.Tensor:\n",
        "    amount = (predictions == targets).sum()\n",
        "    accuracy = amount / targets.size(0)\n",
        "    \n",
        "    return accuracy\n",
        "\n",
        "\n",
        "\n",
        "def hide_spines(ax, spines=[\"top\", \"right\", \"left\", \"bottom\"]):\n",
        "    for spine in spines:\n",
        "        ax.spines[spine].set_visible(False)\n",
        "        \n",
        "def plot_images(rows, cols, indexes, class_=0):\n",
        "    min_index = min(indexes)\n",
        "    max_index = max(indexes)\n",
        "    fig = plt.figure(figsize=(3*cols, 3*rows))\n",
        "    for i in range(*indexes):\n",
        "        item = train_dataset[i]\n",
        "        image = item.image\n",
        "        label = item.label\n",
        "\n",
        "        if label == class_:\n",
        "            ax = fig.add_subplot(rows, cols, (i - min_index)+1)\n",
        "            ax.imshow(image.permute(1, 2, 0))\n",
        "            ax.xaxis.set_visible(False)\n",
        "            ax.yaxis.set_visible(False)\n",
        "\n",
        "    fig.text(s=f\"{train_dataset.labels[class_]} leaves\", x=0.125, y=0.9, fontweight=\"bold\", fontfamily=\"serif\", fontsize=20)\n",
        "    fig.show()\n",
        "    \n",
        "    \n",
        "def get_logger(name:str=__name__, format:str=\"[%(asctime)s][%(levelname)s]: %(message)s\") -> logging.Logger:\n",
        "    logger = logging.getLogger(name)\n",
        "    logger.setLevel(logging.INFO)\n",
        "    formatter = logging.Formatter(format)\n",
        "\n",
        "    file_handler = logging.FileHandler(name)\n",
        "    file_handler.setLevel(logging.INFO)\n",
        "    file_handler.setFormatter(formatter)\n",
        "\n",
        "    stream_handler = logging.StreamHandler()\n",
        "    stream_handler.setLevel(logging.INFO)\n",
        "    stream_handler.setFormatter(formatter)\n",
        "\n",
        "    logger.addHandler(stream_handler)\n",
        "    logger.addHandler(file_handler)\n",
        "    \n",
        "    logger.propagate = False\n",
        "    \n",
        "    return logger"
      ],
      "metadata": {
        "id": "y5ztkeECpq8A"
      },
      "execution_count": 4,
      "outputs": []
    },
    {
      "cell_type": "code",
      "source": [
        "\n",
        "config = Dict({\n",
        "    \"train_path\": \"/content/drive/MyDrive/AI Project/Dataset1/Plant disease recognition dataset _ 3 classes/Train/Train\",\n",
        "    \"test_path\": \"/content/drive/MyDrive/AI Project/Dataset1/Plant disease recognition dataset _ 3 classes/Test/Test\",\n",
        "    \"validation_path\": \"/content/drive/MyDrive/AI Project/Dataset1/Plant disease recognition dataset _ 3 classes/Validation/Validation\"\n",
        "})\n",
        "\n",
        "train_config = Dict({\n",
        "    \"device\": torch.device(\"cuda\" if torch.cuda.is_available() else \"cpu\"),\n",
        "    \"epochs\": 10,\n",
        "    \"seed\": 2021,\n",
        "    \"image_shape\": (128, 128),\n",
        "    \"image_channels\": 3,\n",
        "    \"num_workers\": 0,\n",
        "    \"batch_size\": 32, \n",
        "\n",
        "    \"augmentations\": A.Compose([\n",
        "        A.HorizontalFlip(p=0.5),\n",
        "        A.VerticalFlip(p=0.5),\n",
        "        #A.Blur(p=1),\n",
        "        ToTensorV2(),\n",
        "    ]),\n",
        "    \"optimizer\": {\n",
        "        \"type\": \"AdamW\",\n",
        "        \"parameters\": {\n",
        "            \"lr\": 0.001,\n",
        "            \"weight_decay\": 0.01,\n",
        "        }\n",
        "    },\n",
        "    \n",
        "    \"scheduler\": {\n",
        "        \"type\": \"ReduceLROnPlateau\",\n",
        "        \"parameters\": {\n",
        "            \"patience\": 2,\n",
        "            \"mode\": \"min\",\n",
        "            \"factor\": 0.1,\n",
        "        }\n",
        "    }\n",
        "})\n",
        "\n",
        "\n",
        "seed_everything(train_config.seed)"
      ],
      "metadata": {
        "id": "s_taExBhp4Vf"
      },
      "execution_count": 41,
      "outputs": []
    },
    {
      "cell_type": "code",
      "source": [
        "train_config.device"
      ],
      "metadata": {
        "colab": {
          "base_uri": "https://localhost:8080/"
        },
        "id": "HmuHj6vcsbqX",
        "outputId": "6258d950-6e50-476c-8be9-f303bdc9753b"
      },
      "execution_count": 7,
      "outputs": [
        {
          "output_type": "execute_result",
          "data": {
            "text/plain": [
              "device(type='cuda')"
            ]
          },
          "metadata": {},
          "execution_count": 7
        }
      ]
    },
    {
      "cell_type": "code",
      "source": [
        "# Dataset\n",
        "\n",
        "class PlantDiseaseDataset(Dataset):\n",
        "    def __init__(self, path, augmentations=None, image_shape=(256, 256), channels=\"RGB\"):\n",
        "        self.__images_labels = []\n",
        "        self.image_shape = image_shape\n",
        "        self.channels = channels\n",
        "        self.augmentations = augmentations\n",
        "        \n",
        "        if os.path.exists(path):\n",
        "            self.labels = os.listdir(path)\n",
        "            for label in self.labels:\n",
        "                label_path = os.path.join(path, label)\n",
        "                if os.path.isdir(label_path):\n",
        "                    files = os.listdir(label_path)\n",
        "                    for file in files:\n",
        "                        if file.endswith(\"jpg\") or file.endswith(\"png\"):\n",
        "                            image_path = os.path.join(label_path, file)\n",
        "                            self.__images_labels.append((image_path, label))\n",
        "                        else:\n",
        "                            pass\n",
        "                else:\n",
        "                    pass\n",
        "                \n",
        "        else:\n",
        "          print(path,'directory not found')\n",
        "          pass  \n",
        "        \n",
        "    def _load(self, path, channels=\"RGB\"):\n",
        "        width, height = self.image_shape\n",
        "        loader = A.Compose([\n",
        "            A.Resize(width=width, height=height),\n",
        "            ToTensorV2(),\n",
        "        ])\n",
        "        \n",
        "        image_array = np.array(Image.open(path).convert(channels))\n",
        "        return loader(image=image_array)[\"image\"]\n",
        "    \n",
        "    def __len__(self):\n",
        "        return len(self.__images_labels)\n",
        "    \n",
        "    def __getitem__(self, index):\n",
        "        path, label = self.__images_labels[index]\n",
        "        image = self._load(path)\n",
        "        \n",
        "        if self.augmentations is not None:\n",
        "            image = image.permute(1, 2, 0).numpy()\n",
        "            image = self.augmentations(image=image)[\"image\"]\n",
        "            \n",
        "        label = self.labels.index(label)\n",
        "        \n",
        "        return Dict({\n",
        "            \"image\": image,\n",
        "            \"label\": label,\n",
        "        })\n",
        "    \n",
        "    \n",
        "def collate_fn(batch):\n",
        "    all_images, all_labels = [], []\n",
        "    for item in batch:\n",
        "        image = item.image\n",
        "        label = item.label\n",
        "        \n",
        "        all_images.append(item.image.tolist())\n",
        "        all_labels.append(label)\n",
        "        \n",
        "    return { \n",
        "        \"images\": torch.tensor(all_images),\n",
        "        \"labels\": torch.tensor(all_labels, dtype=torch.int8)\n",
        "    }\n",
        "        "
      ],
      "metadata": {
        "id": "nKJhHUVbp9MT"
      },
      "execution_count": 42,
      "outputs": []
    },
    {
      "cell_type": "code",
      "source": [
        "label_pathes = [os.path.join(config.train_path, label) for label in train_dataset.labels]\n",
        "label_files = [os.listdir(path) for path in label_pathes]\n",
        "amount = [len(files) for files in label_files]\n",
        "\n",
        "palette = sns.color_palette([\"#5FB924\", \"#AB4800\", \"#B2BBAC\"])\n",
        "fig = plt.figure(figsize=(7, 7))\n",
        "ax = fig.add_subplot()\n",
        "ax.grid(color=\"lightgrey\", axis=\"both\", alpha=0.8, zorder=0)\n",
        "sns.barplot(x=train_dataset.labels, y=amount, palette=palette,  ec=\"#000\", linewidth=1.5, zorder=2, ax=ax)\n",
        "ax.xaxis.set_tick_params(labelsize=14, size=0, pad=10)\n",
        "ax.yaxis.set_tick_params(labelsize=12, size=0, pad=5)\n",
        "ax.set_yticks(list(range(0, 450, 50)))\n",
        "ax.set_title(f\"Classes Distribution\", fontsize=20, fontweight=\"bold\", fontfamily=\"serif\", loc=\"left\", y=1.01)\n",
        "ax.set_xlabel(\"Classes\", fontsize=15, fontfamily=\"serif\", labelpad=5)\n",
        "ax.set_ylabel(\"Count\", fontsize=15, fontfamily=\"serif\", labelpad=5)\n",
        "hide_spines(ax)\n",
        "fig.show()"
      ],
      "metadata": {
        "colab": {
          "base_uri": "https://localhost:8080/",
          "height": 480
        },
        "id": "nHu7t5P2qKKF",
        "outputId": "2eb86733-3523-4e46-d4d0-d88df9529983"
      },
      "execution_count": 43,
      "outputs": [
        {
          "output_type": "display_data",
          "data": {
            "text/plain": [
              "<Figure size 504x504 with 1 Axes>"
            ],
            "image/png": "[encoded data removed]"
          },
          "metadata": {
            "needs_background": "light"
          }
        }
      ]
    },
    {
      "cell_type": "code",
      "source": [
        "plot_images(rows=5, cols=5, indexes=(0, 25), class_=0)"
      ],
      "metadata": {
        "id": "P4UIEenHqLsR"
      },
      "execution_count": null,
      "outputs": []
    },
    {
      "cell_type": "code",
      "source": [
        "plot_images(rows=5, cols=5, indexes=(500, 525), class_=1)"
      ],
      "metadata": {
        "id": "0tZTgo94qP0f"
      },
      "execution_count": null,
      "outputs": []
    },
    {
      "cell_type": "code",
      "source": [
        "plot_images(rows=5, cols=5, indexes=(len(train_dataset)-25, len(train_dataset)), class_=2)"
      ],
      "metadata": {
        "id": "--REZnEDqR6I"
      },
      "execution_count": null,
      "outputs": []
    },
    {
      "cell_type": "code",
      "source": [
        "# prepare dataset\n",
        "train_dataset = PlantDiseaseDataset(path=config.train_path, \n",
        "                                    augmentations=train_config.augmentations,\n",
        "                                    image_shape=train_config.image_shape, \n",
        "                                    channels=train_config.image_channels)\n",
        "\n",
        "validation_dataset = PlantDiseaseDataset(path=config.validation_path, \n",
        "                                         augmentations=train_config.augmentations,\n",
        "                                         image_shape=train_config.image_shape, \n",
        "                                         channels=train_config.image_channels)\n",
        "\n",
        "test_dataset = PlantDiseaseDataset(path=config.test_path, \n",
        "                                   augmentations=train_config.augmentations,\n",
        "                                   image_shape=train_config.image_shape, \n",
        "                                   channels=train_config.image_channels)"
      ],
      "metadata": {
        "id": "USFrQjS4qT7h"
      },
      "execution_count": 44,
      "outputs": []
    },
    {
      "cell_type": "code",
      "source": [
        "# print(len(train_loader.dataset))"
      ],
      "metadata": {
        "colab": {
          "base_uri": "https://localhost:8080/"
        },
        "id": "jHQIjHkVurE4",
        "outputId": "510abb89-5164-48ab-cb70-b499c13c2ac3"
      },
      "execution_count": 51,
      "outputs": [
        {
          "output_type": "stream",
          "name": "stdout",
          "text": [
            "1322\n"
          ]
        }
      ]
    },
    {
      "cell_type": "code",
      "source": [
        "train_loader = DataLoader(dataset=train_dataset, \n",
        "                          batch_size=train_config.batch_size, \n",
        "                          num_workers=train_config.num_workers, \n",
        "                          pin_memory=True, \n",
        "                          shuffle=True, \n",
        "                          collate_fn=collate_fn)\n",
        "\n",
        "validation_loader = DataLoader(dataset=validation_dataset, \n",
        "                               batch_size=train_config.batch_size, \n",
        "                               num_workers=train_config.num_workers, \n",
        "                               pin_memory=True, \n",
        "                               shuffle=False, \n",
        "                               collate_fn=collate_fn)\n",
        "\n",
        "test_loader = DataLoader(dataset=test_dataset, \n",
        "                         batch_size=train_config.batch_size, \n",
        "                         num_workers=train_config.num_workers, \n",
        "                         pin_memory=True, \n",
        "                         shuffle=False, \n",
        "                         collate_fn=collate_fn)"
      ],
      "metadata": {
        "id": "y3SB-NGIAAie"
      },
      "execution_count": 52,
      "outputs": []
    },
    {
      "cell_type": "code",
      "source": [
        "# modeling\n",
        "class PlantDiseaseModel(nn.Module):\n",
        "    def __init__(self, classes=3):\n",
        "        super(PlantDiseaseModel, self).__init__()\n",
        "        self.model = models.ShuffleNetV2([4, 8, 4], [24, 244, 488, 976, 2048],num_classes=classes)      \n",
        "        in_features = self.model.fc.in_features\n",
        "        self.model.fc = nn.Sequential(\n",
        "            nn.Linear(in_features=in_features, out_features=classes),\n",
        "            nn.Softmax(dim=1)\n",
        "        )\n",
        "        \n",
        "    def forward(self, image):\n",
        "        output = self.model(image)\n",
        "        return output"
      ],
      "metadata": {
        "id": "QPCDV1dvAD29"
      },
      "execution_count": 53,
      "outputs": []
    },
    {
      "cell_type": "code",
      "source": [
        "class Trainer:\n",
        "    def __init__(self, model, criterion, optimizer,  metric, scheduler=None, logger=None, device=\"cpu\"):\n",
        "        self.model = model\n",
        "        self.criterion = criterion\n",
        "        self.optimizer = optimizer\n",
        "        self.scheduler = scheduler\n",
        "        self.logger = logger\n",
        "        self.device = torch.device(device)\n",
        "        self.best_validation_loss = 0\n",
        "        self.metric = metric\n",
        "        self.history = Dict({})\n",
        "        \n",
        "    def __log(self, logs):\n",
        "        for k, v in logs.items():\n",
        "            if k not in self.history:\n",
        "                self.history[k] = []\n",
        "                \n",
        "            self.history[k].append(v)\n",
        "            \n",
        "    def evaluate(self, loader):\n",
        "        loss, score, length = 0, 0, len(loader)\n",
        "            \n",
        "        self.model.to(self.device)\n",
        "        with torch.no_grad():\n",
        "            loop = tqdm(loader, position=0, colour=\"BLACK\", desc=f\"Evaluating: \", leave=True)\n",
        "            for batch in loop:\n",
        "                if self.device.type != \"cpu\": torch.cuda.empty_cache()\n",
        "                self.model.eval()\n",
        "\n",
        "                images = batch[\"images\"].float().to(self.device)\n",
        "                labels = batch[\"labels\"].long().to(\"cpu\")\n",
        "\n",
        "                probabilities = self.model(images).float().to(\"cpu\")\n",
        "                predictions = torch.argmax(probabilities, dim=1).detach()\n",
        "\n",
        "                batch_loss = self.criterion(probabilities, labels)\n",
        "                loss += batch_loss.item()\n",
        "                \n",
        "                batch_score = self.metric(predictions, labels).item()\n",
        "                score += batch_score\n",
        "\n",
        "            loss /= length\n",
        "            score /= length\n",
        "        \n",
        "        return loss, score\n",
        "        \n",
        "\n",
        "\n",
        "    def fit(self, train_loader, validation_loader=None, epochs=10):\n",
        "        self.model.to(self.device)\n",
        "        train_length = len(train_loader)\n",
        "        \n",
        "        for epoch in range(epochs): \n",
        "            epoch_loss, epoch_score = 0, 0\n",
        "            \n",
        "            loop = tqdm(train_loader, position=0, colour=\"BLACK\", leave=True, desc=f\"Epoch [{epoch+1}/{epochs}]: \")\n",
        "            for batch in loop:\n",
        "                if self.device.type != \"cpu\": torch.cuda.empty_cache()\n",
        "                self.optimizer.zero_grad()\n",
        "                self.model.train()\n",
        "                \n",
        "                images = batch[\"images\"].float().to(self.device)\n",
        "                labels = batch[\"labels\"].long().to(\"cpu\")\n",
        "\n",
        "                probabilities = self.model(images).float().to(\"cpu\")\n",
        "                predictions = torch.argmax(probabilities, dim=1).detach()\n",
        "                \n",
        "                batch_loss = self.criterion(probabilities, labels)\n",
        "                epoch_loss += batch_loss.item()\n",
        "                \n",
        "                batch_score = self.metric(predictions, labels).item()\n",
        "                epoch_score += batch_score\n",
        "                \n",
        "                batch_loss.backward()\n",
        "                self.optimizer.step()\n",
        "                \n",
        "            epoch_loss /= train_length\n",
        "            epoch_score /= train_length\n",
        "            \n",
        "            self.__log({\"train_losses\": epoch_loss, \"train_scores\": epoch_score})\n",
        "            if self.logger is not None: self.logger.info(f\"train Epoch [{epoch+1}/{epochs}]: Loss: {epoch_loss} | Metric: {epoch_score}\")\n",
        "                \n",
        "            if validation_loader is not None:\n",
        "                validation_loss, validation_score = self.evaluate(validation_loader)\n",
        "                self.__log({\"validation_losses\": validation_loss, \"validation_scores\": validation_score})\n",
        "                if self.logger is not None: self.logger.info(f\"Validation Epoch [{epoch+1}/{epochs}]: Loss: {validation_loss} | Metric: {validation_score}\")\n",
        "            \n",
        "\n",
        "\n",
        "                if self.scheduler is not None:\n",
        "                    if isinstance(self.scheduler, torch.optim.lr_scheduler.ReduceLROnPlateau):\n",
        "                        self.scheduler.step(validation_loss)\n",
        "                    else:\n",
        "                        self.scheduler.step()\n",
        "\n",
        "                    if self.logger is not None:\n",
        "                        lr = self.optimizer.param_groups[0][\"lr\"]\n",
        "                        self.logger.info(f\"Epoch [{epoch+1}/{epochs}] Learning Rate: {lr}\")"
      ],
      "metadata": {
        "id": "qRS2ODG5ALpI"
      },
      "execution_count": 54,
      "outputs": []
    },
    {
      "cell_type": "code",
      "source": [
        "print(len(train_loader))\n",
        "print(len(validation_loader))"
      ],
      "metadata": {
        "colab": {
          "base_uri": "https://localhost:8080/"
        },
        "id": "Hted7IFa_AWF",
        "outputId": "bb0920db-50ea-49e8-a825-614af5ff86cf"
      },
      "execution_count": 55,
      "outputs": [
        {
          "output_type": "stream",
          "name": "stdout",
          "text": [
            "42\n",
            "2\n"
          ]
        }
      ]
    },
    {
      "cell_type": "code",
      "source": [
        "model = PlantDiseaseModel(classes=len(train_dataset.labels))\n",
        "criterion = nn.CrossEntropyLoss()\n",
        "optimizer = get_optimizer(model=model, \n",
        "                          name=train_config.optimizer.type, \n",
        "                          parameters=train_config.optimizer.parameters)\n",
        "\n",
        "if \"scheduler\" in train_config:\n",
        "    scheduler = get_scheduler(optimizer=optimizer, \n",
        "                              name=train_config.scheduler.type, \n",
        "                              parameters=train_config.scheduler.parameters)\n",
        "    \n",
        "trainer_logger = get_logger(\"trainer\")\n",
        "trainer = Trainer(model=model, \n",
        "                  criterion=criterion,\n",
        "                  metric=accuracy_score,\n",
        "                  optimizer=optimizer, \n",
        "                  scheduler=scheduler,\n",
        "                  logger=trainer_logger,\n",
        "                  device=train_config.device)"
      ],
      "metadata": {
        "id": "IzyhicBtALa1"
      },
      "execution_count": 56,
      "outputs": []
    },
    {
      "cell_type": "code",
      "source": [
        "print(model)"
      ],
      "metadata": {
        "id": "UJgGR9wyAheV"
      },
      "execution_count": null,
      "outputs": []
    },
    {
      "cell_type": "code",
      "source": [
        "trainer.fit(train_loader=train_loader, \n",
        "            validation_loader=validation_loader, \n",
        "            epochs=train_config.epochs)"
      ],
      "metadata": {
        "colab": {
          "base_uri": "https://localhost:8080/"
        },
        "id": "gq8OHvTsAQrq",
        "outputId": "bbddd79e-dae3-420b-b894-4113d3dc39e8"
      },
      "execution_count": 57,
      "outputs": [
        {
          "output_type": "stream",
          "name": "stderr",
          "text": [
            "Epoch [1/10]: 100%|\u001b[30m██████████\u001b[0m| 42/42 [04:52<00:00,  6.97s/it]\n",
            "[2023-03-19 17:37:13,149][INFO]: train Epoch [1/10]: Loss: 0.9293308428355626 | Metric: 0.5976190481867109\n",
            "[2023-03-19 17:37:13,149][INFO]: train Epoch [1/10]: Loss: 0.9293308428355626 | Metric: 0.5976190481867109\n",
            "[2023-03-19 17:37:13,149][INFO]: train Epoch [1/10]: Loss: 0.9293308428355626 | Metric: 0.5976190481867109\n",
            "Evaluating: 100%|\u001b[30m██████████\u001b[0m| 2/2 [00:29<00:00, 14.70s/it]\n",
            "[2023-03-19 17:37:42,569][INFO]: Validation Epoch [1/10]: Loss: 1.1692790985107422 | Metric: 0.3660714328289032\n",
            "[2023-03-19 17:37:42,569][INFO]: Validation Epoch [1/10]: Loss: 1.1692790985107422 | Metric: 0.3660714328289032\n",
            "[2023-03-19 17:37:42,569][INFO]: Validation Epoch [1/10]: Loss: 1.1692790985107422 | Metric: 0.3660714328289032\n",
            "[2023-03-19 17:37:42,575][INFO]: Epoch [1/10] Learning Rate: 0.001\n",
            "[2023-03-19 17:37:42,575][INFO]: Epoch [1/10] Learning Rate: 0.001\n",
            "[2023-03-19 17:37:42,575][INFO]: Epoch [1/10] Learning Rate: 0.001\n",
            "Epoch [2/10]: 100%|\u001b[30m██████████\u001b[0m| 42/42 [04:47<00:00,  6.85s/it]\n",
            "[2023-03-19 17:42:30,178][INFO]: train Epoch [2/10]: Loss: 0.7991602846554348 | Metric: 0.7418154761904762\n",
            "[2023-03-19 17:42:30,178][INFO]: train Epoch [2/10]: Loss: 0.7991602846554348 | Metric: 0.7418154761904762\n",
            "[2023-03-19 17:42:30,178][INFO]: train Epoch [2/10]: Loss: 0.7991602846554348 | Metric: 0.7418154761904762\n",
            "Evaluating: 100%|\u001b[30m██████████\u001b[0m| 2/2 [00:12<00:00,  6.49s/it]\n",
            "[2023-03-19 17:42:43,166][INFO]: Validation Epoch [2/10]: Loss: 1.0700477957725525 | Metric: 0.4732142984867096\n",
            "[2023-03-19 17:42:43,166][INFO]: Validation Epoch [2/10]: Loss: 1.0700477957725525 | Metric: 0.4732142984867096\n",
            "[2023-03-19 17:42:43,166][INFO]: Validation Epoch [2/10]: Loss: 1.0700477957725525 | Metric: 0.4732142984867096\n",
            "[2023-03-19 17:42:43,172][INFO]: Epoch [2/10] Learning Rate: 0.001\n",
            "[2023-03-19 17:42:43,172][INFO]: Epoch [2/10] Learning Rate: 0.001\n",
            "[2023-03-19 17:42:43,172][INFO]: Epoch [2/10] Learning Rate: 0.001\n",
            "Epoch [3/10]: 100%|\u001b[30m██████████\u001b[0m| 42/42 [04:46<00:00,  6.83s/it]\n",
            "[2023-03-19 17:47:29,909][INFO]: train Epoch [3/10]: Loss: 0.7674102967693692 | Metric: 0.7733630949542636\n",
            "[2023-03-19 17:47:29,909][INFO]: train Epoch [3/10]: Loss: 0.7674102967693692 | Metric: 0.7733630949542636\n",
            "[2023-03-19 17:47:29,909][INFO]: train Epoch [3/10]: Loss: 0.7674102967693692 | Metric: 0.7733630949542636\n",
            "Evaluating: 100%|\u001b[30m██████████\u001b[0m| 2/2 [00:13<00:00,  6.55s/it]\n",
            "[2023-03-19 17:47:43,037][INFO]: Validation Epoch [3/10]: Loss: 1.1349247694015503 | Metric: 0.3973214328289032\n",
            "[2023-03-19 17:47:43,037][INFO]: Validation Epoch [3/10]: Loss: 1.1349247694015503 | Metric: 0.3973214328289032\n",
            "[2023-03-19 17:47:43,037][INFO]: Validation Epoch [3/10]: Loss: 1.1349247694015503 | Metric: 0.3973214328289032\n",
            "[2023-03-19 17:47:43,044][INFO]: Epoch [3/10] Learning Rate: 0.001\n",
            "[2023-03-19 17:47:43,044][INFO]: Epoch [3/10] Learning Rate: 0.001\n",
            "[2023-03-19 17:47:43,044][INFO]: Epoch [3/10] Learning Rate: 0.001\n",
            "Epoch [4/10]: 100%|\u001b[30m██████████\u001b[0m| 42/42 [04:49<00:00,  6.88s/it]\n",
            "[2023-03-19 17:52:32,143][INFO]: train Epoch [4/10]: Loss: 0.7096676514262245 | Metric: 0.8376488089561462\n",
            "[2023-03-19 17:52:32,143][INFO]: train Epoch [4/10]: Loss: 0.7096676514262245 | Metric: 0.8376488089561462\n",
            "[2023-03-19 17:52:32,143][INFO]: train Epoch [4/10]: Loss: 0.7096676514262245 | Metric: 0.8376488089561462\n",
            "Evaluating: 100%|\u001b[30m██████████\u001b[0m| 2/2 [00:13<00:00,  6.50s/it]\n",
            "[2023-03-19 17:52:45,167][INFO]: Validation Epoch [4/10]: Loss: 1.0614572763442993 | Metric: 0.4776785671710968\n",
            "[2023-03-19 17:52:45,167][INFO]: Validation Epoch [4/10]: Loss: 1.0614572763442993 | Metric: 0.4776785671710968\n",
            "[2023-03-19 17:52:45,167][INFO]: Validation Epoch [4/10]: Loss: 1.0614572763442993 | Metric: 0.4776785671710968\n",
            "[2023-03-19 17:52:45,173][INFO]: Epoch [4/10] Learning Rate: 0.001\n",
            "[2023-03-19 17:52:45,173][INFO]: Epoch [4/10] Learning Rate: 0.001\n",
            "[2023-03-19 17:52:45,173][INFO]: Epoch [4/10] Learning Rate: 0.001\n",
            "Epoch [5/10]: 100%|\u001b[30m██████████\u001b[0m| 42/42 [04:47<00:00,  6.84s/it]\n",
            "[2023-03-19 17:57:32,517][INFO]: train Epoch [5/10]: Loss: 0.6780783122494107 | Metric: 0.867410713718051\n",
            "[2023-03-19 17:57:32,517][INFO]: train Epoch [5/10]: Loss: 0.6780783122494107 | Metric: 0.867410713718051\n",
            "[2023-03-19 17:57:32,517][INFO]: train Epoch [5/10]: Loss: 0.6780783122494107 | Metric: 0.867410713718051\n",
            "Evaluating: 100%|\u001b[30m██████████\u001b[0m| 2/2 [00:12<00:00,  6.41s/it]\n",
            "[2023-03-19 17:57:45,354][INFO]: Validation Epoch [5/10]: Loss: 1.1223450303077698 | Metric: 0.4196428507566452\n",
            "[2023-03-19 17:57:45,354][INFO]: Validation Epoch [5/10]: Loss: 1.1223450303077698 | Metric: 0.4196428507566452\n",
            "[2023-03-19 17:57:45,354][INFO]: Validation Epoch [5/10]: Loss: 1.1223450303077698 | Metric: 0.4196428507566452\n",
            "[2023-03-19 17:57:45,360][INFO]: Epoch [5/10] Learning Rate: 0.001\n",
            "[2023-03-19 17:57:45,360][INFO]: Epoch [5/10] Learning Rate: 0.001\n",
            "[2023-03-19 17:57:45,360][INFO]: Epoch [5/10] Learning Rate: 0.001\n",
            "Epoch [6/10]: 100%|\u001b[30m██████████\u001b[0m| 42/42 [04:48<00:00,  6.86s/it]\n",
            "[2023-03-19 18:02:33,431][INFO]: train Epoch [6/10]: Loss: 0.6760214964548746 | Metric: 0.8705357142857143\n",
            "[2023-03-19 18:02:33,431][INFO]: train Epoch [6/10]: Loss: 0.6760214964548746 | Metric: 0.8705357142857143\n",
            "[2023-03-19 18:02:33,431][INFO]: train Epoch [6/10]: Loss: 0.6760214964548746 | Metric: 0.8705357142857143\n",
            "Evaluating: 100%|\u001b[30m██████████\u001b[0m| 2/2 [00:12<00:00,  6.47s/it]\n",
            "[2023-03-19 18:02:46,394][INFO]: Validation Epoch [6/10]: Loss: 1.1173465251922607 | Metric: 0.4196428507566452\n",
            "[2023-03-19 18:02:46,394][INFO]: Validation Epoch [6/10]: Loss: 1.1173465251922607 | Metric: 0.4196428507566452\n",
            "[2023-03-19 18:02:46,394][INFO]: Validation Epoch [6/10]: Loss: 1.1173465251922607 | Metric: 0.4196428507566452\n",
            "[2023-03-19 18:02:46,399][INFO]: Epoch [6/10] Learning Rate: 0.001\n",
            "[2023-03-19 18:02:46,399][INFO]: Epoch [6/10] Learning Rate: 0.001\n",
            "[2023-03-19 18:02:46,399][INFO]: Epoch [6/10] Learning Rate: 0.001\n",
            "Epoch [7/10]: 100%|\u001b[30m██████████\u001b[0m| 42/42 [04:48<00:00,  6.87s/it]\n",
            "[2023-03-19 18:07:35,126][INFO]: train Epoch [7/10]: Loss: 0.6630645479474749 | Metric: 0.883035713718051\n",
            "[2023-03-19 18:07:35,126][INFO]: train Epoch [7/10]: Loss: 0.6630645479474749 | Metric: 0.883035713718051\n",
            "[2023-03-19 18:07:35,126][INFO]: train Epoch [7/10]: Loss: 0.6630645479474749 | Metric: 0.883035713718051\n",
            "Evaluating: 100%|\u001b[30m██████████\u001b[0m| 2/2 [00:12<00:00,  6.44s/it]\n",
            "[2023-03-19 18:07:48,028][INFO]: Validation Epoch [7/10]: Loss: 1.2332047820091248 | Metric: 0.3392857164144516\n",
            "[2023-03-19 18:07:48,028][INFO]: Validation Epoch [7/10]: Loss: 1.2332047820091248 | Metric: 0.3392857164144516\n",
            "[2023-03-19 18:07:48,028][INFO]: Validation Epoch [7/10]: Loss: 1.2332047820091248 | Metric: 0.3392857164144516\n",
            "[2023-03-19 18:07:48,033][INFO]: Epoch [7/10] Learning Rate: 0.0001\n",
            "[2023-03-19 18:07:48,033][INFO]: Epoch [7/10] Learning Rate: 0.0001\n",
            "[2023-03-19 18:07:48,033][INFO]: Epoch [7/10] Learning Rate: 0.0001\n",
            "Epoch [8/10]: 100%|\u001b[30m██████████\u001b[0m| 42/42 [04:48<00:00,  6.88s/it]\n",
            "[2023-03-19 18:12:36,940][INFO]: train Epoch [8/10]: Loss: 0.6474629966985612 | Metric: 0.9066964288552603\n",
            "[2023-03-19 18:12:36,940][INFO]: train Epoch [8/10]: Loss: 0.6474629966985612 | Metric: 0.9066964288552603\n",
            "[2023-03-19 18:12:36,940][INFO]: train Epoch [8/10]: Loss: 0.6474629966985612 | Metric: 0.9066964288552603\n",
            "Evaluating: 100%|\u001b[30m██████████\u001b[0m| 2/2 [00:13<00:00,  6.60s/it]\n",
            "[2023-03-19 18:12:50,157][INFO]: Validation Epoch [8/10]: Loss: 1.1894064545631409 | Metric: 0.3482142835855484\n",
            "[2023-03-19 18:12:50,157][INFO]: Validation Epoch [8/10]: Loss: 1.1894064545631409 | Metric: 0.3482142835855484\n",
            "[2023-03-19 18:12:50,157][INFO]: Validation Epoch [8/10]: Loss: 1.1894064545631409 | Metric: 0.3482142835855484\n",
            "[2023-03-19 18:12:50,163][INFO]: Epoch [8/10] Learning Rate: 0.0001\n",
            "[2023-03-19 18:12:50,163][INFO]: Epoch [8/10] Learning Rate: 0.0001\n",
            "[2023-03-19 18:12:50,163][INFO]: Epoch [8/10] Learning Rate: 0.0001\n",
            "Epoch [9/10]: 100%|\u001b[30m██████████\u001b[0m| 42/42 [04:46<00:00,  6.83s/it]\n",
            "[2023-03-19 18:17:36,852][INFO]: train Epoch [9/10]: Loss: 0.6326333908807664 | Metric: 0.9180059518132891\n",
            "[2023-03-19 18:17:36,852][INFO]: train Epoch [9/10]: Loss: 0.6326333908807664 | Metric: 0.9180059518132891\n",
            "[2023-03-19 18:17:36,852][INFO]: train Epoch [9/10]: Loss: 0.6326333908807664 | Metric: 0.9180059518132891\n",
            "Evaluating: 100%|\u001b[30m██████████\u001b[0m| 2/2 [00:13<00:00,  6.56s/it]\n",
            "[2023-03-19 18:17:49,990][INFO]: Validation Epoch [9/10]: Loss: 1.1542903184890747 | Metric: 0.3794642835855484\n",
            "[2023-03-19 18:17:49,990][INFO]: Validation Epoch [9/10]: Loss: 1.1542903184890747 | Metric: 0.3794642835855484\n",
            "[2023-03-19 18:17:49,990][INFO]: Validation Epoch [9/10]: Loss: 1.1542903184890747 | Metric: 0.3794642835855484\n",
            "[2023-03-19 18:17:49,994][INFO]: Epoch [9/10] Learning Rate: 0.0001\n",
            "[2023-03-19 18:17:49,994][INFO]: Epoch [9/10] Learning Rate: 0.0001\n",
            "[2023-03-19 18:17:49,994][INFO]: Epoch [9/10] Learning Rate: 0.0001\n",
            "Epoch [10/10]: 100%|\u001b[30m██████████\u001b[0m| 42/42 [04:46<00:00,  6.82s/it]\n",
            "[2023-03-19 18:22:36,304][INFO]: train Epoch [10/10]: Loss: 0.6174936464854649 | Metric: 0.9345238095238095\n",
            "[2023-03-19 18:22:36,304][INFO]: train Epoch [10/10]: Loss: 0.6174936464854649 | Metric: 0.9345238095238095\n",
            "[2023-03-19 18:22:36,304][INFO]: train Epoch [10/10]: Loss: 0.6174936464854649 | Metric: 0.9345238095238095\n",
            "Evaluating: 100%|\u001b[30m██████████\u001b[0m| 2/2 [00:13<00:00,  6.55s/it]\n",
            "[2023-03-19 18:22:49,415][INFO]: Validation Epoch [10/10]: Loss: 1.1857584714889526 | Metric: 0.3482142835855484\n",
            "[2023-03-19 18:22:49,415][INFO]: Validation Epoch [10/10]: Loss: 1.1857584714889526 | Metric: 0.3482142835855484\n",
            "[2023-03-19 18:22:49,415][INFO]: Validation Epoch [10/10]: Loss: 1.1857584714889526 | Metric: 0.3482142835855484\n",
            "[2023-03-19 18:22:49,421][INFO]: Epoch [10/10] Learning Rate: 1e-05\n",
            "[2023-03-19 18:22:49,421][INFO]: Epoch [10/10] Learning Rate: 1e-05\n",
            "[2023-03-19 18:22:49,421][INFO]: Epoch [10/10] Learning Rate: 1e-05\n"
          ]
        }
      ]
    },
    {
      "cell_type": "code",
      "source": [
        "epochs_ = range(1, train_config.epochs+1)\n",
        "fig = plt.figure(figsize=(10, 5))\n",
        "ax = fig.add_subplot()\n",
        "ax.grid(color=\"lightgrey\", axis=\"both\", alpha=0.8, zorder=0)\n",
        "sns.lineplot(x=epochs_, y=trainer.history.train_losses, color=\"red\", marker=\"o\", label=\"Train Loss\", zorder=2, ax=ax)\n",
        "sns.lineplot(x=epochs_, y=trainer.history.validation_losses, color=\"blue\", marker=\"o\", label=\"Validation Loss\", zorder=2, ax=ax)\n",
        "ax.set_title(\"Train & Validation Losses\", fontsize=20, fontweight=\"bold\", fontfamily=\"serif\", loc=\"left\", y=1.05)\n",
        "hide_spines(ax)\n",
        "ax.xaxis.set_tick_params(labelsize=12, size=0, pad=10)\n",
        "ax.yaxis.set_tick_params(labelsize=12, size=0, pad=5)\n",
        "ax.set_xlabel(\"Epochs\", fontsize=15, fontfamily=\"serif\", labelpad=10)\n",
        "ax.set_ylabel(\"Loss\", fontsize=15, fontfamily=\"serif\", labelpad=5)\n",
        "ax.legend()\n",
        "fig.show()"
      ],
      "metadata": {
        "colab": {
          "base_uri": "https://localhost:8080/",
          "height": 385
        },
        "id": "IRkBSiavATFS",
        "outputId": "e6970899-1dff-4c53-ee13-2137919c7132"
      },
      "execution_count": 58,
      "outputs": [
        {
          "output_type": "display_data",
          "data": {
            "text/plain": [
              "<Figure size 720x360 with 1 Axes>"
            ],
            "image/png": "[encoded data removed]"
          },
          "metadata": {
            "needs_background": "light"
          }
        }
      ]
    },
    {
      "cell_type": "markdown",
      "source": [
        "4th epoch is giving us the maximum accuracy."
      ],
      "metadata": {
        "id": "J_eZR2Buakxk"
      }
    },
    {
      "cell_type": "code",
      "source": [
        "fig = plt.figure(figsize=(10, 5))\n",
        "ax = fig.add_subplot()\n",
        "ax.grid(color=\"lightgrey\", axis=\"both\", alpha=0.8, zorder=0)\n",
        "sns.lineplot(x=epochs_, y=trainer.history.train_scores, color=\"red\", marker=\"o\", label=\"Train Accuracy\", zorder=2, ax=ax)\n",
        "sns.lineplot(x=epochs_, y=trainer.history.validation_scores, color=\"blue\", marker=\"o\", label=\"Validation Accuracy\", zorder=2, ax=ax)\n",
        "ax.set_title(\"Train & Validation Accuracy\", fontsize=20, fontweight=\"bold\", fontfamily=\"serif\", loc=\"left\", y=1.05)\n",
        "hide_spines(ax)\n",
        "ax.xaxis.set_tick_params(labelsize=12, size=0, pad=10)\n",
        "ax.yaxis.set_tick_params(labelsize=12, size=0, pad=5)\n",
        "ax.set_xlabel(\"Epochs\", fontsize=15, fontfamily=\"serif\", labelpad=10)\n",
        "ax.set_ylabel(\"Accuracy\", fontsize=15, fontfamily=\"serif\", labelpad=5)\n",
        "ax.legend()\n",
        "fig.show()"
      ],
      "metadata": {
        "colab": {
          "base_uri": "https://localhost:8080/",
          "height": 385
        },
        "id": "iME_8YrXAUtO",
        "outputId": "03cd0362-a5da-49ee-c97f-e723ee21153e"
      },
      "execution_count": 59,
      "outputs": [
        {
          "output_type": "display_data",
          "data": {
            "text/plain": [
              "<Figure size 720x360 with 1 Axes>"
            ],
            "image/png": "[encoded data removed]"
          },
          "metadata": {
            "needs_background": "light"
          }
        }
      ]
    },
    {
      "cell_type": "code",
      "source": [
        "trainer.evaluate(test_loader)"
      ],
      "metadata": {
        "colab": {
          "base_uri": "https://localhost:8080/"
        },
        "id": "LxuH8-I3GIZ-",
        "outputId": "8de3e622-5944-46e4-cc39-1add2f61b65d"
      },
      "execution_count": 60,
      "outputs": [
        {
          "output_type": "stream",
          "name": "stderr",
          "text": [
            "Evaluating: 100%|\u001b[30m██████████\u001b[0m| 5/5 [01:09<00:00, 13.99s/it]\n"
          ]
        },
        {
          "output_type": "execute_result",
          "data": {
            "text/plain": [
              "(1.4726945161819458, 0.06477272808551789)"
            ]
          },
          "metadata": {},
          "execution_count": 60
        }
      ]
    }
  ]
}